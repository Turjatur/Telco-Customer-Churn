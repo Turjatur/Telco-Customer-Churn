{
 "cells": [
  {
   "cell_type": "markdown",
   "source": [
    "# Milestone 1\r\n",
    "---"
   ],
   "metadata": {}
  },
  {
   "cell_type": "markdown",
   "source": [
    "## Introduction\r\n",
    "\r\n",
    "Name  : Izzatur Arrasya 002<br>\r\n",
    "\r\n",
    "## Dataset Introduction\r\n",
    "<b>Telco Customer Churn</b> <br>\r\n",
    "\r\n",
    "\"Predict behavior to retain customers. You can analyze all relevant customer data and develop focused customer retention programs.\"\r\n",
    "\r\n",
    "Teach row represents a customer, each column contains customer’s attributes described on the column Metadata.\r\n",
    "\r\n",
    "The data set includes information about:\r\n",
    "\r\n",
    "1. Customers who left within the last month – the column is called Churn\r\n",
    "2. Services that each customer has signed up for – phone, multiple lines, internet, online security, online backup, device protection, tech support, and streaming TV and movies\r\n",
    "3. Customer account information – how long they’ve been a customer, contract, payment method, paperless billing, monthly charges, and total charges\r\n",
    "4. Demographic info about customers – gender, age range, and if they have partners and dependents\r\n",
    "\r\n",
    "## Objective\r\n",
    "\r\n",
    "In this notebook of Milestone 1 was created to evaluate concept as follows:\r\n",
    "\r\n",
    "1. Able to understand the concept of Artificial Neural Networks (ANN)\r\n",
    "2. Able to prepare data for use in Artificial Neural Networks (ANN)\r\n",
    "3. Able to implement Artificial Neural Networks (ANN)\r\n",
    "4. Able to evaluated the models\r\n",
    "5. Able to tuning the models"
   ],
   "metadata": {}
  },
  {
   "cell_type": "markdown",
   "source": [
    "## Import library\r\n",
    "---"
   ],
   "metadata": {}
  },
  {
   "cell_type": "code",
   "execution_count": 1,
   "source": [
    "import numpy as np\r\n",
    "import pandas as pd\r\n",
    "import matplotlib.pyplot as plt\r\n",
    "\r\n",
    "import tensorflow as tf\r\n",
    "from tensorflow.keras import Sequential\r\n",
    "from tensorflow.keras.layers import Conv2D,MaxPool2D,Dense,Flatten,BatchNormalization,Dropout\r\n",
    "from tensorflow.keras.optimizers import Adam\r\n",
    "from tensorflow.keras.preprocessing import image\r\n",
    "\r\n",
    "from sklearn.model_selection import train_test_split\r\n",
    "from tqdm import tqdm"
   ],
   "outputs": [],
   "metadata": {}
  },
  {
   "cell_type": "markdown",
   "source": [
    "## Data Loading\r\n",
    "---"
   ],
   "metadata": {}
  },
  {
   "cell_type": "code",
   "execution_count": 2,
   "source": [
    "#load data using pandas\r\n",
    "df = pd.read_csv(\"WA_Fn-UseC_-Telco-Customer-Churn.csv\")\r\n",
    "df.head()"
   ],
   "outputs": [
    {
     "output_type": "execute_result",
     "data": {
      "text/html": [
       "<div>\n",
       "<style scoped>\n",
       "    .dataframe tbody tr th:only-of-type {\n",
       "        vertical-align: middle;\n",
       "    }\n",
       "\n",
       "    .dataframe tbody tr th {\n",
       "        vertical-align: top;\n",
       "    }\n",
       "\n",
       "    .dataframe thead th {\n",
       "        text-align: right;\n",
       "    }\n",
       "</style>\n",
       "<table border=\"1\" class=\"dataframe\">\n",
       "  <thead>\n",
       "    <tr style=\"text-align: right;\">\n",
       "      <th></th>\n",
       "      <th>customerID</th>\n",
       "      <th>gender</th>\n",
       "      <th>SeniorCitizen</th>\n",
       "      <th>Partner</th>\n",
       "      <th>Dependents</th>\n",
       "      <th>tenure</th>\n",
       "      <th>PhoneService</th>\n",
       "      <th>MultipleLines</th>\n",
       "      <th>InternetService</th>\n",
       "      <th>OnlineSecurity</th>\n",
       "      <th>...</th>\n",
       "      <th>DeviceProtection</th>\n",
       "      <th>TechSupport</th>\n",
       "      <th>StreamingTV</th>\n",
       "      <th>StreamingMovies</th>\n",
       "      <th>Contract</th>\n",
       "      <th>PaperlessBilling</th>\n",
       "      <th>PaymentMethod</th>\n",
       "      <th>MonthlyCharges</th>\n",
       "      <th>TotalCharges</th>\n",
       "      <th>Churn</th>\n",
       "    </tr>\n",
       "  </thead>\n",
       "  <tbody>\n",
       "    <tr>\n",
       "      <th>0</th>\n",
       "      <td>7590-VHVEG</td>\n",
       "      <td>Female</td>\n",
       "      <td>0</td>\n",
       "      <td>Yes</td>\n",
       "      <td>No</td>\n",
       "      <td>1</td>\n",
       "      <td>No</td>\n",
       "      <td>No phone service</td>\n",
       "      <td>DSL</td>\n",
       "      <td>No</td>\n",
       "      <td>...</td>\n",
       "      <td>No</td>\n",
       "      <td>No</td>\n",
       "      <td>No</td>\n",
       "      <td>No</td>\n",
       "      <td>Month-to-month</td>\n",
       "      <td>Yes</td>\n",
       "      <td>Electronic check</td>\n",
       "      <td>29.85</td>\n",
       "      <td>29.85</td>\n",
       "      <td>No</td>\n",
       "    </tr>\n",
       "    <tr>\n",
       "      <th>1</th>\n",
       "      <td>5575-GNVDE</td>\n",
       "      <td>Male</td>\n",
       "      <td>0</td>\n",
       "      <td>No</td>\n",
       "      <td>No</td>\n",
       "      <td>34</td>\n",
       "      <td>Yes</td>\n",
       "      <td>No</td>\n",
       "      <td>DSL</td>\n",
       "      <td>Yes</td>\n",
       "      <td>...</td>\n",
       "      <td>Yes</td>\n",
       "      <td>No</td>\n",
       "      <td>No</td>\n",
       "      <td>No</td>\n",
       "      <td>One year</td>\n",
       "      <td>No</td>\n",
       "      <td>Mailed check</td>\n",
       "      <td>56.95</td>\n",
       "      <td>1889.5</td>\n",
       "      <td>No</td>\n",
       "    </tr>\n",
       "    <tr>\n",
       "      <th>2</th>\n",
       "      <td>3668-QPYBK</td>\n",
       "      <td>Male</td>\n",
       "      <td>0</td>\n",
       "      <td>No</td>\n",
       "      <td>No</td>\n",
       "      <td>2</td>\n",
       "      <td>Yes</td>\n",
       "      <td>No</td>\n",
       "      <td>DSL</td>\n",
       "      <td>Yes</td>\n",
       "      <td>...</td>\n",
       "      <td>No</td>\n",
       "      <td>No</td>\n",
       "      <td>No</td>\n",
       "      <td>No</td>\n",
       "      <td>Month-to-month</td>\n",
       "      <td>Yes</td>\n",
       "      <td>Mailed check</td>\n",
       "      <td>53.85</td>\n",
       "      <td>108.15</td>\n",
       "      <td>Yes</td>\n",
       "    </tr>\n",
       "    <tr>\n",
       "      <th>3</th>\n",
       "      <td>7795-CFOCW</td>\n",
       "      <td>Male</td>\n",
       "      <td>0</td>\n",
       "      <td>No</td>\n",
       "      <td>No</td>\n",
       "      <td>45</td>\n",
       "      <td>No</td>\n",
       "      <td>No phone service</td>\n",
       "      <td>DSL</td>\n",
       "      <td>Yes</td>\n",
       "      <td>...</td>\n",
       "      <td>Yes</td>\n",
       "      <td>Yes</td>\n",
       "      <td>No</td>\n",
       "      <td>No</td>\n",
       "      <td>One year</td>\n",
       "      <td>No</td>\n",
       "      <td>Bank transfer (automatic)</td>\n",
       "      <td>42.30</td>\n",
       "      <td>1840.75</td>\n",
       "      <td>No</td>\n",
       "    </tr>\n",
       "    <tr>\n",
       "      <th>4</th>\n",
       "      <td>9237-HQITU</td>\n",
       "      <td>Female</td>\n",
       "      <td>0</td>\n",
       "      <td>No</td>\n",
       "      <td>No</td>\n",
       "      <td>2</td>\n",
       "      <td>Yes</td>\n",
       "      <td>No</td>\n",
       "      <td>Fiber optic</td>\n",
       "      <td>No</td>\n",
       "      <td>...</td>\n",
       "      <td>No</td>\n",
       "      <td>No</td>\n",
       "      <td>No</td>\n",
       "      <td>No</td>\n",
       "      <td>Month-to-month</td>\n",
       "      <td>Yes</td>\n",
       "      <td>Electronic check</td>\n",
       "      <td>70.70</td>\n",
       "      <td>151.65</td>\n",
       "      <td>Yes</td>\n",
       "    </tr>\n",
       "  </tbody>\n",
       "</table>\n",
       "<p>5 rows × 21 columns</p>\n",
       "</div>"
      ],
      "text/plain": [
       "   customerID  gender  SeniorCitizen Partner Dependents  tenure PhoneService  \\\n",
       "0  7590-VHVEG  Female              0     Yes         No       1           No   \n",
       "1  5575-GNVDE    Male              0      No         No      34          Yes   \n",
       "2  3668-QPYBK    Male              0      No         No       2          Yes   \n",
       "3  7795-CFOCW    Male              0      No         No      45           No   \n",
       "4  9237-HQITU  Female              0      No         No       2          Yes   \n",
       "\n",
       "      MultipleLines InternetService OnlineSecurity  ... DeviceProtection  \\\n",
       "0  No phone service             DSL             No  ...               No   \n",
       "1                No             DSL            Yes  ...              Yes   \n",
       "2                No             DSL            Yes  ...               No   \n",
       "3  No phone service             DSL            Yes  ...              Yes   \n",
       "4                No     Fiber optic             No  ...               No   \n",
       "\n",
       "  TechSupport StreamingTV StreamingMovies        Contract PaperlessBilling  \\\n",
       "0          No          No              No  Month-to-month              Yes   \n",
       "1          No          No              No        One year               No   \n",
       "2          No          No              No  Month-to-month              Yes   \n",
       "3         Yes          No              No        One year               No   \n",
       "4          No          No              No  Month-to-month              Yes   \n",
       "\n",
       "               PaymentMethod MonthlyCharges  TotalCharges Churn  \n",
       "0           Electronic check          29.85         29.85    No  \n",
       "1               Mailed check          56.95        1889.5    No  \n",
       "2               Mailed check          53.85        108.15   Yes  \n",
       "3  Bank transfer (automatic)          42.30       1840.75    No  \n",
       "4           Electronic check          70.70        151.65   Yes  \n",
       "\n",
       "[5 rows x 21 columns]"
      ]
     },
     "metadata": {},
     "execution_count": 2
    }
   ],
   "metadata": {}
  },
  {
   "cell_type": "code",
   "execution_count": 3,
   "source": [
    "df.info()"
   ],
   "outputs": [
    {
     "output_type": "stream",
     "name": "stdout",
     "text": [
      "<class 'pandas.core.frame.DataFrame'>\n",
      "RangeIndex: 7043 entries, 0 to 7042\n",
      "Data columns (total 21 columns):\n",
      " #   Column            Non-Null Count  Dtype  \n",
      "---  ------            --------------  -----  \n",
      " 0   customerID        7043 non-null   object \n",
      " 1   gender            7043 non-null   object \n",
      " 2   SeniorCitizen     7043 non-null   int64  \n",
      " 3   Partner           7043 non-null   object \n",
      " 4   Dependents        7043 non-null   object \n",
      " 5   tenure            7043 non-null   int64  \n",
      " 6   PhoneService      7043 non-null   object \n",
      " 7   MultipleLines     7043 non-null   object \n",
      " 8   InternetService   7043 non-null   object \n",
      " 9   OnlineSecurity    7043 non-null   object \n",
      " 10  OnlineBackup      7043 non-null   object \n",
      " 11  DeviceProtection  7043 non-null   object \n",
      " 12  TechSupport       7043 non-null   object \n",
      " 13  StreamingTV       7043 non-null   object \n",
      " 14  StreamingMovies   7043 non-null   object \n",
      " 15  Contract          7043 non-null   object \n",
      " 16  PaperlessBilling  7043 non-null   object \n",
      " 17  PaymentMethod     7043 non-null   object \n",
      " 18  MonthlyCharges    7043 non-null   float64\n",
      " 19  TotalCharges      7043 non-null   object \n",
      " 20  Churn             7043 non-null   object \n",
      "dtypes: float64(1), int64(2), object(18)\n",
      "memory usage: 1.1+ MB\n"
     ]
    }
   ],
   "metadata": {}
  },
  {
   "cell_type": "code",
   "execution_count": 4,
   "source": [
    "df.shape"
   ],
   "outputs": [
    {
     "output_type": "execute_result",
     "data": {
      "text/plain": [
       "(7043, 21)"
      ]
     },
     "metadata": {},
     "execution_count": 4
    }
   ],
   "metadata": {}
  },
  {
   "cell_type": "code",
   "execution_count": 5,
   "source": [
    "df.columns"
   ],
   "outputs": [
    {
     "output_type": "execute_result",
     "data": {
      "text/plain": [
       "Index(['customerID', 'gender', 'SeniorCitizen', 'Partner', 'Dependents',\n",
       "       'tenure', 'PhoneService', 'MultipleLines', 'InternetService',\n",
       "       'OnlineSecurity', 'OnlineBackup', 'DeviceProtection', 'TechSupport',\n",
       "       'StreamingTV', 'StreamingMovies', 'Contract', 'PaperlessBilling',\n",
       "       'PaymentMethod', 'MonthlyCharges', 'TotalCharges', 'Churn'],\n",
       "      dtype='object')"
      ]
     },
     "metadata": {},
     "execution_count": 5
    }
   ],
   "metadata": {}
  },
  {
   "cell_type": "markdown",
   "source": [
    "From the data above, we get some of information of every column in data frame :\r\n",
    "\r\n",
    "1. Column 'customerID' : Customer ID\r\n",
    "2. Column 'gender' : Whether the customer is a male or a female\r\n",
    "3. Column 'SeniorCitizen' : Whether the customer is a senior citizen or not (1, 0)\r\n",
    "4. Column 'Partner' : Whether the customer has a partner or not (Yes ,No)\r\n",
    "5. Column 'Dependents' : Whether the customer has dependents or not (Yes, No)\r\n",
    "6. Column 'tenure' : Number of months the customer has stayed with the company\r\n",
    "7. Column 'PhoneService' : Whether the customer has a phone service or not (Yes, No)\r\n",
    "8. Column 'MultipleLines' : Whether the customer has multiple lines or not (Yes, No, No phone service)\r\n",
    "9. Column 'InternetService' : Customer’s internet service provider (DSL, Fiber optic, No)\r\n",
    "10. Column 'OnlineSecurity' : Whether the customer has online security or not (Yes, No, No internet service)\r\n",
    "11. Column 'OnlineBackup' : Whether the customer has online backup or not (Yes, No, No internet service)\r\n",
    "12. Column 'DeviceProtection' : Whether the customer has device protection or not (Yes, No, No internet service)\r\n",
    "13. Column 'TechSupport' : Whether the customer has tech support or not (Yes, No, No internet service)\r\n",
    "14. Column 'StreamingTV' : Whether the customer has streaming TV or not (Yes, No, No internet service)\r\n",
    "15. Column 'StreamingMovies' : Whether the customer has streaming movies or not (Yes, No, No internet service)\r\n",
    "16. Column 'Contract' : The contract term of the customer (Month-to-month, One year, Two year)\r\n",
    "17. Column 'PaperlessBilling' : Whether the customer has paperless billing or not (Yes, No)\r\n",
    "18. Column 'PaymentMethod' : The customer’s payment method (Electronic check, Mailed check, Bank transfer (automatic), Credit card (automatic))\r\n",
    "19. Column 'MonthlyCharges' : \tThe amount charged to the customer monthly\r\n",
    "20. Column 'TotalCharges' : The total amount charged to the customer\r\n",
    "21. Column 'Churn' : Customers who left within the last month"
   ],
   "metadata": {}
  },
  {
   "cell_type": "code",
   "execution_count": 6,
   "source": [
    "df.describe()"
   ],
   "outputs": [
    {
     "output_type": "execute_result",
     "data": {
      "text/html": [
       "<div>\n",
       "<style scoped>\n",
       "    .dataframe tbody tr th:only-of-type {\n",
       "        vertical-align: middle;\n",
       "    }\n",
       "\n",
       "    .dataframe tbody tr th {\n",
       "        vertical-align: top;\n",
       "    }\n",
       "\n",
       "    .dataframe thead th {\n",
       "        text-align: right;\n",
       "    }\n",
       "</style>\n",
       "<table border=\"1\" class=\"dataframe\">\n",
       "  <thead>\n",
       "    <tr style=\"text-align: right;\">\n",
       "      <th></th>\n",
       "      <th>SeniorCitizen</th>\n",
       "      <th>tenure</th>\n",
       "      <th>MonthlyCharges</th>\n",
       "    </tr>\n",
       "  </thead>\n",
       "  <tbody>\n",
       "    <tr>\n",
       "      <th>count</th>\n",
       "      <td>7043.000000</td>\n",
       "      <td>7043.000000</td>\n",
       "      <td>7043.000000</td>\n",
       "    </tr>\n",
       "    <tr>\n",
       "      <th>mean</th>\n",
       "      <td>0.162147</td>\n",
       "      <td>32.371149</td>\n",
       "      <td>64.761692</td>\n",
       "    </tr>\n",
       "    <tr>\n",
       "      <th>std</th>\n",
       "      <td>0.368612</td>\n",
       "      <td>24.559481</td>\n",
       "      <td>30.090047</td>\n",
       "    </tr>\n",
       "    <tr>\n",
       "      <th>min</th>\n",
       "      <td>0.000000</td>\n",
       "      <td>0.000000</td>\n",
       "      <td>18.250000</td>\n",
       "    </tr>\n",
       "    <tr>\n",
       "      <th>25%</th>\n",
       "      <td>0.000000</td>\n",
       "      <td>9.000000</td>\n",
       "      <td>35.500000</td>\n",
       "    </tr>\n",
       "    <tr>\n",
       "      <th>50%</th>\n",
       "      <td>0.000000</td>\n",
       "      <td>29.000000</td>\n",
       "      <td>70.350000</td>\n",
       "    </tr>\n",
       "    <tr>\n",
       "      <th>75%</th>\n",
       "      <td>0.000000</td>\n",
       "      <td>55.000000</td>\n",
       "      <td>89.850000</td>\n",
       "    </tr>\n",
       "    <tr>\n",
       "      <th>max</th>\n",
       "      <td>1.000000</td>\n",
       "      <td>72.000000</td>\n",
       "      <td>118.750000</td>\n",
       "    </tr>\n",
       "  </tbody>\n",
       "</table>\n",
       "</div>"
      ],
      "text/plain": [
       "       SeniorCitizen       tenure  MonthlyCharges\n",
       "count    7043.000000  7043.000000     7043.000000\n",
       "mean        0.162147    32.371149       64.761692\n",
       "std         0.368612    24.559481       30.090047\n",
       "min         0.000000     0.000000       18.250000\n",
       "25%         0.000000     9.000000       35.500000\n",
       "50%         0.000000    29.000000       70.350000\n",
       "75%         0.000000    55.000000       89.850000\n",
       "max         1.000000    72.000000      118.750000"
      ]
     },
     "metadata": {},
     "execution_count": 6
    }
   ],
   "metadata": {}
  },
  {
   "cell_type": "markdown",
   "source": [
    "As you can see from above data that tenure and MonthlyCharges values differ by order of magnitude, we will have to address this problem and normalize the data before modeling. Also, it will be interesting to see the effect of MonthlyCharges and tenure on the customer churn. Now let's check for NA or missing values."
   ],
   "metadata": {}
  },
  {
   "cell_type": "markdown",
   "source": [
    "## Data Cleaning\r\n",
    "---"
   ],
   "metadata": {}
  },
  {
   "cell_type": "code",
   "execution_count": 7,
   "source": [
    "#copy dataframe\r\n",
    "df_tc = df.copy()"
   ],
   "outputs": [],
   "metadata": {}
  },
  {
   "cell_type": "code",
   "execution_count": 8,
   "source": [
    "#check any missing value\r\n",
    "df_tc.isnull().sum()"
   ],
   "outputs": [
    {
     "output_type": "execute_result",
     "data": {
      "text/plain": [
       "customerID          0\n",
       "gender              0\n",
       "SeniorCitizen       0\n",
       "Partner             0\n",
       "Dependents          0\n",
       "tenure              0\n",
       "PhoneService        0\n",
       "MultipleLines       0\n",
       "InternetService     0\n",
       "OnlineSecurity      0\n",
       "OnlineBackup        0\n",
       "DeviceProtection    0\n",
       "TechSupport         0\n",
       "StreamingTV         0\n",
       "StreamingMovies     0\n",
       "Contract            0\n",
       "PaperlessBilling    0\n",
       "PaymentMethod       0\n",
       "MonthlyCharges      0\n",
       "TotalCharges        0\n",
       "Churn               0\n",
       "dtype: int64"
      ]
     },
     "metadata": {},
     "execution_count": 8
    }
   ],
   "metadata": {}
  },
  {
   "cell_type": "code",
   "execution_count": 9,
   "source": [
    "#checking any duplicate row\r\n",
    "df_tc.duplicated().sum()"
   ],
   "outputs": [
    {
     "output_type": "execute_result",
     "data": {
      "text/plain": [
       "0"
      ]
     },
     "metadata": {},
     "execution_count": 9
    }
   ],
   "metadata": {}
  },
  {
   "cell_type": "markdown",
   "source": [
    "## Exploration Data  Analysis\r\n",
    "---"
   ],
   "metadata": {}
  },
  {
   "cell_type": "code",
   "execution_count": 10,
   "source": [
    "#copy dataframe\r\n",
    "df_eda = df.copy()"
   ],
   "outputs": [],
   "metadata": {}
  },
  {
   "cell_type": "code",
   "execution_count": 11,
   "source": [
    "# Count of customer that will churn\r\n",
    "cust_churn_yes_count = df_eda[df_eda.Churn == 'Yes'].shape[0]\r\n",
    "# Count of customer that will not churn (retain)\r\n",
    "cust_churn_no_count = df_eda[df_eda.Churn == 'No'].shape[0]\r\n",
    "\r\n",
    "# Percentage of customer that will churn\r\n",
    "cust_churn_yes_percent = round((cust_churn_yes_count / (cust_churn_yes_count + cust_churn_no_count) * 100),2)\r\n",
    "# Percentage of customer that will not churn (retain)\r\n",
    "cust_churn_no_percent = round((cust_churn_no_count / (cust_churn_yes_count + cust_churn_no_count) * 100 ),2)\r\n",
    "\r\n",
    "plt.figure(figsize=(10,6))\r\n",
    "ax = sns.countplot(df_eda['Churn'])\r\n",
    "ax.set_title(f'{cust_churn_yes_percent} % ({cust_churn_yes_count}) of cust will churn & {cust_churn_no_percent} % ({cust_churn_no_count}) of cust will retain')"
   ],
   "outputs": [
    {
     "output_type": "stream",
     "name": "stderr",
     "text": [
      "C:\\Users\\izzat\\Anaconda3\\envs\\tf-gpu\\lib\\site-packages\\seaborn\\_decorators.py:36: FutureWarning: Pass the following variable as a keyword arg: x. From version 0.12, the only valid positional argument will be `data`, and passing other arguments without an explicit keyword will result in an error or misinterpretation.\n",
      "  warnings.warn(\n"
     ]
    },
    {
     "output_type": "execute_result",
     "data": {
      "text/plain": [
       "Text(0.5, 1.0, '26.54 % (1869) of cust will churn & 73.46 % (5174) of cust will retain')"
      ]
     },
     "metadata": {},
     "execution_count": 11
    },
    {
     "output_type": "display_data",
     "data": {
      "image/png": "[encoded data removed]",
      "text/plain": [
       "<Figure size 720x432 with 1 Axes>"
      ]
     },
     "metadata": {
      "needs_background": "light"
     }
    }
   ],
   "metadata": {}
  },
  {
   "cell_type": "markdown",
   "source": [
    "You can see above most of the customer says 'No' means customer will remain with the company, out of all the available data 73.46% customers are going to stay with the company."
   ],
   "metadata": {}
  },
  {
   "cell_type": "code",
   "execution_count": 12,
   "source": [
    "plt.figure(figsize=(10,6))\r\n",
    "ax = sns.countplot(x= 'gender', hue='Churn', data=df_eda)\r\n",
    "ax.set_title(f'Effect of Gender on Customer Churn')"
   ],
   "outputs": [
    {
     "output_type": "execute_result",
     "data": {
      "text/plain": [
       "Text(0.5, 1.0, 'Effect of Gender on Customer Churn')"
      ]
     },
     "metadata": {},
     "execution_count": 12
    },
    {
     "output_type": "display_data",
     "data": {
      "image/png": "[encoded data removed]",
      "text/plain": [
       "<Figure size 720x432 with 1 Axes>"
      ]
     },
     "metadata": {
      "needs_background": "light"
     }
    }
   ],
   "metadata": {}
  },
  {
   "cell_type": "markdown",
   "source": [
    "As you can see customer gender doesn't seem to affecting churn count."
   ],
   "metadata": {}
  },
  {
   "cell_type": "code",
   "execution_count": 13,
   "source": [
    "plt.figure(figsize=(10,6))\r\n",
    "ax = sns.countplot(x= 'SeniorCitizen', hue='Churn', data=df_eda)\r\n",
    "ax.set_title(f'SeniorCitizens proportion Customer Churn')\r\n",
    "plt.xlabel('SeniorCitizens(0: No, 1: Yes)')"
   ],
   "outputs": [
    {
     "output_type": "execute_result",
     "data": {
      "text/plain": [
       "Text(0.5, 0, 'SeniorCitizens(0: No, 1: Yes)')"
      ]
     },
     "metadata": {},
     "execution_count": 13
    },
    {
     "output_type": "display_data",
     "data": {
      "image/png": "[encoded data removed]",
      "text/plain": [
       "<Figure size 720x432 with 1 Axes>"
      ]
     },
     "metadata": {
      "needs_background": "light"
     }
    }
   ],
   "metadata": {}
  },
  {
   "cell_type": "markdown",
   "source": [
    "As we can see from above graph that senior citizens though being few in number have higher customer churn percentage."
   ],
   "metadata": {}
  },
  {
   "cell_type": "code",
   "execution_count": 14,
   "source": [
    "plt.figure(figsize=(10,6))\r\n",
    "ax = sns.countplot(x= 'InternetService', hue='Churn', data=df_eda)\r\n",
    "ax.set_title(f'Effect of internet service on customer churn')"
   ],
   "outputs": [
    {
     "output_type": "execute_result",
     "data": {
      "text/plain": [
       "Text(0.5, 1.0, 'Effect of internet service on customer churn')"
      ]
     },
     "metadata": {},
     "execution_count": 14
    },
    {
     "output_type": "display_data",
     "data": {
      "image/png": "[encoded data removed]",
      "text/plain": [
       "<Figure size 720x432 with 1 Axes>"
      ]
     },
     "metadata": {
      "needs_background": "light"
     }
    }
   ],
   "metadata": {}
  },
  {
   "cell_type": "markdown",
   "source": [
    "As we can see from above graph that customers who are using DSL internet service tends to be more loyal as compare to fiber optic using customers. There can be many reasons for this and an accurate conclusion can be drawn by analyzing DSL and fiber optic data in detail.  So over all the company should have a look at the internet service offerings and try to fix bring down the shortcomings."
   ],
   "metadata": {}
  },
  {
   "cell_type": "code",
   "execution_count": 15,
   "source": [
    "tenure_churn_yes = df_eda[df_eda.Churn == 'Yes'].tenure\r\n",
    "tenure_churn_no = df_eda[df_eda.Churn == 'No'].tenure\r\n",
    "\r\n",
    "plt.figure(figsize=(10,6))\r\n",
    "plt.hist([tenure_churn_yes, tenure_churn_no], color=['orange', 'blue'], label= ['Leaving', 'Staying'])\r\n",
    "plt.xlabel('Tenure(Months)')\r\n",
    "plt.ylabel('No of Customers')\r\n",
    "plt.title('Customers Churn Based on Tenure')\r\n",
    "plt.legend()"
   ],
   "outputs": [
    {
     "output_type": "execute_result",
     "data": {
      "text/plain": [
       "<matplotlib.legend.Legend at 0x12cddbafe20>"
      ]
     },
     "metadata": {},
     "execution_count": 15
    },
    {
     "output_type": "display_data",
     "data": {
      "image/png": "[encoded data removed]",
      "text/plain": [
       "<Figure size 720x432 with 1 Axes>"
      ]
     },
     "metadata": {
      "needs_background": "light"
     }
    }
   ],
   "metadata": {}
  },
  {
   "cell_type": "markdown",
   "source": [
    "From above histogram it's clear that more number of customers tend to stay with the company after the first 10 months of service. So the company can concentrate more on the new customer and their initial experience with the service to increase the customer retention."
   ],
   "metadata": {}
  },
  {
   "cell_type": "code",
   "execution_count": 16,
   "source": [
    "monthly_charges_churn_yes = df_eda[df_eda.Churn == 'Yes'].MonthlyCharges\r\n",
    "monthly_charges_churn_no = df_eda[df_eda.Churn == 'No'].MonthlyCharges\r\n",
    "\r\n",
    "\r\n",
    "plt.figure(figsize=(10,6))\r\n",
    "plt.hist([monthly_charges_churn_yes, monthly_charges_churn_no], color=['orange', 'blue'], label= ['Leaving', 'Staying'])\r\n",
    "plt.xlabel('Monthly Charges')\r\n",
    "plt.ylabel('No of Customers')\r\n",
    "plt.title('Customers Churn Based on Monthly Charges')\r\n",
    "plt.legend()"
   ],
   "outputs": [
    {
     "output_type": "execute_result",
     "data": {
      "text/plain": [
       "<matplotlib.legend.Legend at 0x12cddc0a790>"
      ]
     },
     "metadata": {},
     "execution_count": 16
    },
    {
     "output_type": "display_data",
     "data": {
      "image/png": "[encoded data removed]",
      "text/plain": [
       "<Figure size 720x432 with 1 Axes>"
      ]
     },
     "metadata": {
      "needs_background": "light"
     }
    }
   ],
   "metadata": {}
  },
  {
   "cell_type": "markdown",
   "source": [
    "From above histogram for lowest monthly rates between 20 and 40 highest is the customer retention. But customer attrition increases for monthly charges between 70 and 100. So the company can reduce the monthly charges or add more value to the service for the same price to increase the customer retention."
   ],
   "metadata": {}
  },
  {
   "cell_type": "markdown",
   "source": [
    "## Data Preprocessing\r\n",
    "---"
   ],
   "metadata": {}
  },
  {
   "cell_type": "code",
   "execution_count": 17,
   "source": [
    "dfc1 = df.drop('customerID', axis = 'columns')\r\n",
    "dfc1.shape "
   ],
   "outputs": [
    {
     "output_type": "execute_result",
     "data": {
      "text/plain": [
       "(7043, 20)"
      ]
     },
     "metadata": {},
     "execution_count": 17
    }
   ],
   "metadata": {}
  },
  {
   "cell_type": "code",
   "execution_count": 18,
   "source": [
    "dfc1.dtypes"
   ],
   "outputs": [
    {
     "output_type": "execute_result",
     "data": {
      "text/plain": [
       "gender               object\n",
       "SeniorCitizen         int64\n",
       "Partner              object\n",
       "Dependents           object\n",
       "tenure                int64\n",
       "PhoneService         object\n",
       "MultipleLines        object\n",
       "InternetService      object\n",
       "OnlineSecurity       object\n",
       "OnlineBackup         object\n",
       "DeviceProtection     object\n",
       "TechSupport          object\n",
       "StreamingTV          object\n",
       "StreamingMovies      object\n",
       "Contract             object\n",
       "PaperlessBilling     object\n",
       "PaymentMethod        object\n",
       "MonthlyCharges      float64\n",
       "TotalCharges         object\n",
       "Churn                object\n",
       "dtype: object"
      ]
     },
     "metadata": {},
     "execution_count": 18
    }
   ],
   "metadata": {}
  },
  {
   "cell_type": "code",
   "execution_count": 19,
   "source": [
    "#check why TotalCharges object type\r\n",
    "dfc1.TotalCharges.unique()"
   ],
   "outputs": [
    {
     "output_type": "execute_result",
     "data": {
      "text/plain": [
       "array(['29.85', '1889.5', '108.15', ..., '346.45', '306.6', '6844.5'],\n",
       "      dtype=object)"
      ]
     },
     "metadata": {},
     "execution_count": 19
    }
   ],
   "metadata": {}
  },
  {
   "cell_type": "code",
   "execution_count": 20,
   "source": [
    "# Print rows with missing TotalCharges values\r\n",
    "dfc1[dfc1.TotalCharges == ' ']"
   ],
   "outputs": [
    {
     "output_type": "execute_result",
     "data": {
      "text/html": [
       "<div>\n",
       "<style scoped>\n",
       "    .dataframe tbody tr th:only-of-type {\n",
       "        vertical-align: middle;\n",
       "    }\n",
       "\n",
       "    .dataframe tbody tr th {\n",
       "        vertical-align: top;\n",
       "    }\n",
       "\n",
       "    .dataframe thead th {\n",
       "        text-align: right;\n",
       "    }\n",
       "</style>\n",
       "<table border=\"1\" class=\"dataframe\">\n",
       "  <thead>\n",
       "    <tr style=\"text-align: right;\">\n",
       "      <th></th>\n",
       "      <th>gender</th>\n",
       "      <th>SeniorCitizen</th>\n",
       "      <th>Partner</th>\n",
       "      <th>Dependents</th>\n",
       "      <th>tenure</th>\n",
       "      <th>PhoneService</th>\n",
       "      <th>MultipleLines</th>\n",
       "      <th>InternetService</th>\n",
       "      <th>OnlineSecurity</th>\n",
       "      <th>OnlineBackup</th>\n",
       "      <th>DeviceProtection</th>\n",
       "      <th>TechSupport</th>\n",
       "      <th>StreamingTV</th>\n",
       "      <th>StreamingMovies</th>\n",
       "      <th>Contract</th>\n",
       "      <th>PaperlessBilling</th>\n",
       "      <th>PaymentMethod</th>\n",
       "      <th>MonthlyCharges</th>\n",
       "      <th>TotalCharges</th>\n",
       "      <th>Churn</th>\n",
       "    </tr>\n",
       "  </thead>\n",
       "  <tbody>\n",
       "    <tr>\n",
       "      <th>488</th>\n",
       "      <td>Female</td>\n",
       "      <td>0</td>\n",
       "      <td>Yes</td>\n",
       "      <td>Yes</td>\n",
       "      <td>0</td>\n",
       "      <td>No</td>\n",
       "      <td>No phone service</td>\n",
       "      <td>DSL</td>\n",
       "      <td>Yes</td>\n",
       "      <td>No</td>\n",
       "      <td>Yes</td>\n",
       "      <td>Yes</td>\n",
       "      <td>Yes</td>\n",
       "      <td>No</td>\n",
       "      <td>Two year</td>\n",
       "      <td>Yes</td>\n",
       "      <td>Bank transfer (automatic)</td>\n",
       "      <td>52.55</td>\n",
       "      <td></td>\n",
       "      <td>No</td>\n",
       "    </tr>\n",
       "    <tr>\n",
       "      <th>753</th>\n",
       "      <td>Male</td>\n",
       "      <td>0</td>\n",
       "      <td>No</td>\n",
       "      <td>Yes</td>\n",
       "      <td>0</td>\n",
       "      <td>Yes</td>\n",
       "      <td>No</td>\n",
       "      <td>No</td>\n",
       "      <td>No internet service</td>\n",
       "      <td>No internet service</td>\n",
       "      <td>No internet service</td>\n",
       "      <td>No internet service</td>\n",
       "      <td>No internet service</td>\n",
       "      <td>No internet service</td>\n",
       "      <td>Two year</td>\n",
       "      <td>No</td>\n",
       "      <td>Mailed check</td>\n",
       "      <td>20.25</td>\n",
       "      <td></td>\n",
       "      <td>No</td>\n",
       "    </tr>\n",
       "    <tr>\n",
       "      <th>936</th>\n",
       "      <td>Female</td>\n",
       "      <td>0</td>\n",
       "      <td>Yes</td>\n",
       "      <td>Yes</td>\n",
       "      <td>0</td>\n",
       "      <td>Yes</td>\n",
       "      <td>No</td>\n",
       "      <td>DSL</td>\n",
       "      <td>Yes</td>\n",
       "      <td>Yes</td>\n",
       "      <td>Yes</td>\n",
       "      <td>No</td>\n",
       "      <td>Yes</td>\n",
       "      <td>Yes</td>\n",
       "      <td>Two year</td>\n",
       "      <td>No</td>\n",
       "      <td>Mailed check</td>\n",
       "      <td>80.85</td>\n",
       "      <td></td>\n",
       "      <td>No</td>\n",
       "    </tr>\n",
       "    <tr>\n",
       "      <th>1082</th>\n",
       "      <td>Male</td>\n",
       "      <td>0</td>\n",
       "      <td>Yes</td>\n",
       "      <td>Yes</td>\n",
       "      <td>0</td>\n",
       "      <td>Yes</td>\n",
       "      <td>Yes</td>\n",
       "      <td>No</td>\n",
       "      <td>No internet service</td>\n",
       "      <td>No internet service</td>\n",
       "      <td>No internet service</td>\n",
       "      <td>No internet service</td>\n",
       "      <td>No internet service</td>\n",
       "      <td>No internet service</td>\n",
       "      <td>Two year</td>\n",
       "      <td>No</td>\n",
       "      <td>Mailed check</td>\n",
       "      <td>25.75</td>\n",
       "      <td></td>\n",
       "      <td>No</td>\n",
       "    </tr>\n",
       "    <tr>\n",
       "      <th>1340</th>\n",
       "      <td>Female</td>\n",
       "      <td>0</td>\n",
       "      <td>Yes</td>\n",
       "      <td>Yes</td>\n",
       "      <td>0</td>\n",
       "      <td>No</td>\n",
       "      <td>No phone service</td>\n",
       "      <td>DSL</td>\n",
       "      <td>Yes</td>\n",
       "      <td>Yes</td>\n",
       "      <td>Yes</td>\n",
       "      <td>Yes</td>\n",
       "      <td>Yes</td>\n",
       "      <td>No</td>\n",
       "      <td>Two year</td>\n",
       "      <td>No</td>\n",
       "      <td>Credit card (automatic)</td>\n",
       "      <td>56.05</td>\n",
       "      <td></td>\n",
       "      <td>No</td>\n",
       "    </tr>\n",
       "    <tr>\n",
       "      <th>3331</th>\n",
       "      <td>Male</td>\n",
       "      <td>0</td>\n",
       "      <td>Yes</td>\n",
       "      <td>Yes</td>\n",
       "      <td>0</td>\n",
       "      <td>Yes</td>\n",
       "      <td>No</td>\n",
       "      <td>No</td>\n",
       "      <td>No internet service</td>\n",
       "      <td>No internet service</td>\n",
       "      <td>No internet service</td>\n",
       "      <td>No internet service</td>\n",
       "      <td>No internet service</td>\n",
       "      <td>No internet service</td>\n",
       "      <td>Two year</td>\n",
       "      <td>No</td>\n",
       "      <td>Mailed check</td>\n",
       "      <td>19.85</td>\n",
       "      <td></td>\n",
       "      <td>No</td>\n",
       "    </tr>\n",
       "    <tr>\n",
       "      <th>3826</th>\n",
       "      <td>Male</td>\n",
       "      <td>0</td>\n",
       "      <td>Yes</td>\n",
       "      <td>Yes</td>\n",
       "      <td>0</td>\n",
       "      <td>Yes</td>\n",
       "      <td>Yes</td>\n",
       "      <td>No</td>\n",
       "      <td>No internet service</td>\n",
       "      <td>No internet service</td>\n",
       "      <td>No internet service</td>\n",
       "      <td>No internet service</td>\n",
       "      <td>No internet service</td>\n",
       "      <td>No internet service</td>\n",
       "      <td>Two year</td>\n",
       "      <td>No</td>\n",
       "      <td>Mailed check</td>\n",
       "      <td>25.35</td>\n",
       "      <td></td>\n",
       "      <td>No</td>\n",
       "    </tr>\n",
       "    <tr>\n",
       "      <th>4380</th>\n",
       "      <td>Female</td>\n",
       "      <td>0</td>\n",
       "      <td>Yes</td>\n",
       "      <td>Yes</td>\n",
       "      <td>0</td>\n",
       "      <td>Yes</td>\n",
       "      <td>No</td>\n",
       "      <td>No</td>\n",
       "      <td>No internet service</td>\n",
       "      <td>No internet service</td>\n",
       "      <td>No internet service</td>\n",
       "      <td>No internet service</td>\n",
       "      <td>No internet service</td>\n",
       "      <td>No internet service</td>\n",
       "      <td>Two year</td>\n",
       "      <td>No</td>\n",
       "      <td>Mailed check</td>\n",
       "      <td>20.00</td>\n",
       "      <td></td>\n",
       "      <td>No</td>\n",
       "    </tr>\n",
       "    <tr>\n",
       "      <th>5218</th>\n",
       "      <td>Male</td>\n",
       "      <td>0</td>\n",
       "      <td>Yes</td>\n",
       "      <td>Yes</td>\n",
       "      <td>0</td>\n",
       "      <td>Yes</td>\n",
       "      <td>No</td>\n",
       "      <td>No</td>\n",
       "      <td>No internet service</td>\n",
       "      <td>No internet service</td>\n",
       "      <td>No internet service</td>\n",
       "      <td>No internet service</td>\n",
       "      <td>No internet service</td>\n",
       "      <td>No internet service</td>\n",
       "      <td>One year</td>\n",
       "      <td>Yes</td>\n",
       "      <td>Mailed check</td>\n",
       "      <td>19.70</td>\n",
       "      <td></td>\n",
       "      <td>No</td>\n",
       "    </tr>\n",
       "    <tr>\n",
       "      <th>6670</th>\n",
       "      <td>Female</td>\n",
       "      <td>0</td>\n",
       "      <td>Yes</td>\n",
       "      <td>Yes</td>\n",
       "      <td>0</td>\n",
       "      <td>Yes</td>\n",
       "      <td>Yes</td>\n",
       "      <td>DSL</td>\n",
       "      <td>No</td>\n",
       "      <td>Yes</td>\n",
       "      <td>Yes</td>\n",
       "      <td>Yes</td>\n",
       "      <td>Yes</td>\n",
       "      <td>No</td>\n",
       "      <td>Two year</td>\n",
       "      <td>No</td>\n",
       "      <td>Mailed check</td>\n",
       "      <td>73.35</td>\n",
       "      <td></td>\n",
       "      <td>No</td>\n",
       "    </tr>\n",
       "    <tr>\n",
       "      <th>6754</th>\n",
       "      <td>Male</td>\n",
       "      <td>0</td>\n",
       "      <td>No</td>\n",
       "      <td>Yes</td>\n",
       "      <td>0</td>\n",
       "      <td>Yes</td>\n",
       "      <td>Yes</td>\n",
       "      <td>DSL</td>\n",
       "      <td>Yes</td>\n",
       "      <td>Yes</td>\n",
       "      <td>No</td>\n",
       "      <td>Yes</td>\n",
       "      <td>No</td>\n",
       "      <td>No</td>\n",
       "      <td>Two year</td>\n",
       "      <td>Yes</td>\n",
       "      <td>Bank transfer (automatic)</td>\n",
       "      <td>61.90</td>\n",
       "      <td></td>\n",
       "      <td>No</td>\n",
       "    </tr>\n",
       "  </tbody>\n",
       "</table>\n",
       "</div>"
      ],
      "text/plain": [
       "      gender  SeniorCitizen Partner Dependents  tenure PhoneService  \\\n",
       "488   Female              0     Yes        Yes       0           No   \n",
       "753     Male              0      No        Yes       0          Yes   \n",
       "936   Female              0     Yes        Yes       0          Yes   \n",
       "1082    Male              0     Yes        Yes       0          Yes   \n",
       "1340  Female              0     Yes        Yes       0           No   \n",
       "3331    Male              0     Yes        Yes       0          Yes   \n",
       "3826    Male              0     Yes        Yes       0          Yes   \n",
       "4380  Female              0     Yes        Yes       0          Yes   \n",
       "5218    Male              0     Yes        Yes       0          Yes   \n",
       "6670  Female              0     Yes        Yes       0          Yes   \n",
       "6754    Male              0      No        Yes       0          Yes   \n",
       "\n",
       "         MultipleLines InternetService       OnlineSecurity  \\\n",
       "488   No phone service             DSL                  Yes   \n",
       "753                 No              No  No internet service   \n",
       "936                 No             DSL                  Yes   \n",
       "1082               Yes              No  No internet service   \n",
       "1340  No phone service             DSL                  Yes   \n",
       "3331                No              No  No internet service   \n",
       "3826               Yes              No  No internet service   \n",
       "4380                No              No  No internet service   \n",
       "5218                No              No  No internet service   \n",
       "6670               Yes             DSL                   No   \n",
       "6754               Yes             DSL                  Yes   \n",
       "\n",
       "             OnlineBackup     DeviceProtection          TechSupport  \\\n",
       "488                    No                  Yes                  Yes   \n",
       "753   No internet service  No internet service  No internet service   \n",
       "936                   Yes                  Yes                   No   \n",
       "1082  No internet service  No internet service  No internet service   \n",
       "1340                  Yes                  Yes                  Yes   \n",
       "3331  No internet service  No internet service  No internet service   \n",
       "3826  No internet service  No internet service  No internet service   \n",
       "4380  No internet service  No internet service  No internet service   \n",
       "5218  No internet service  No internet service  No internet service   \n",
       "6670                  Yes                  Yes                  Yes   \n",
       "6754                  Yes                   No                  Yes   \n",
       "\n",
       "              StreamingTV      StreamingMovies  Contract PaperlessBilling  \\\n",
       "488                   Yes                   No  Two year              Yes   \n",
       "753   No internet service  No internet service  Two year               No   \n",
       "936                   Yes                  Yes  Two year               No   \n",
       "1082  No internet service  No internet service  Two year               No   \n",
       "1340                  Yes                   No  Two year               No   \n",
       "3331  No internet service  No internet service  Two year               No   \n",
       "3826  No internet service  No internet service  Two year               No   \n",
       "4380  No internet service  No internet service  Two year               No   \n",
       "5218  No internet service  No internet service  One year              Yes   \n",
       "6670                  Yes                   No  Two year               No   \n",
       "6754                   No                   No  Two year              Yes   \n",
       "\n",
       "                  PaymentMethod  MonthlyCharges TotalCharges Churn  \n",
       "488   Bank transfer (automatic)           52.55                 No  \n",
       "753                Mailed check           20.25                 No  \n",
       "936                Mailed check           80.85                 No  \n",
       "1082               Mailed check           25.75                 No  \n",
       "1340    Credit card (automatic)           56.05                 No  \n",
       "3331               Mailed check           19.85                 No  \n",
       "3826               Mailed check           25.35                 No  \n",
       "4380               Mailed check           20.00                 No  \n",
       "5218               Mailed check           19.70                 No  \n",
       "6670               Mailed check           73.35                 No  \n",
       "6754  Bank transfer (automatic)           61.90                 No  "
      ]
     },
     "metadata": {},
     "execution_count": 20
    }
   ],
   "metadata": {}
  },
  {
   "cell_type": "markdown",
   "source": [
    "Customers with TotalCharges 0 had tenure 0 months, that means they are new customers. TotalCharges will be available for them after first month of service. Now instead of deleting these training examples we can replace with 0 as TotalCharges."
   ],
   "metadata": {}
  },
  {
   "cell_type": "code",
   "execution_count": 21,
   "source": [
    "dfc1.TotalCharges =  dfc1.TotalCharges.replace(r' ', '0')\r\n",
    "dfc1[dfc1.tenure == 0]"
   ],
   "outputs": [
    {
     "output_type": "execute_result",
     "data": {
      "text/html": [
       "<div>\n",
       "<style scoped>\n",
       "    .dataframe tbody tr th:only-of-type {\n",
       "        vertical-align: middle;\n",
       "    }\n",
       "\n",
       "    .dataframe tbody tr th {\n",
       "        vertical-align: top;\n",
       "    }\n",
       "\n",
       "    .dataframe thead th {\n",
       "        text-align: right;\n",
       "    }\n",
       "</style>\n",
       "<table border=\"1\" class=\"dataframe\">\n",
       "  <thead>\n",
       "    <tr style=\"text-align: right;\">\n",
       "      <th></th>\n",
       "      <th>gender</th>\n",
       "      <th>SeniorCitizen</th>\n",
       "      <th>Partner</th>\n",
       "      <th>Dependents</th>\n",
       "      <th>tenure</th>\n",
       "      <th>PhoneService</th>\n",
       "      <th>MultipleLines</th>\n",
       "      <th>InternetService</th>\n",
       "      <th>OnlineSecurity</th>\n",
       "      <th>OnlineBackup</th>\n",
       "      <th>DeviceProtection</th>\n",
       "      <th>TechSupport</th>\n",
       "      <th>StreamingTV</th>\n",
       "      <th>StreamingMovies</th>\n",
       "      <th>Contract</th>\n",
       "      <th>PaperlessBilling</th>\n",
       "      <th>PaymentMethod</th>\n",
       "      <th>MonthlyCharges</th>\n",
       "      <th>TotalCharges</th>\n",
       "      <th>Churn</th>\n",
       "    </tr>\n",
       "  </thead>\n",
       "  <tbody>\n",
       "    <tr>\n",
       "      <th>488</th>\n",
       "      <td>Female</td>\n",
       "      <td>0</td>\n",
       "      <td>Yes</td>\n",
       "      <td>Yes</td>\n",
       "      <td>0</td>\n",
       "      <td>No</td>\n",
       "      <td>No phone service</td>\n",
       "      <td>DSL</td>\n",
       "      <td>Yes</td>\n",
       "      <td>No</td>\n",
       "      <td>Yes</td>\n",
       "      <td>Yes</td>\n",
       "      <td>Yes</td>\n",
       "      <td>No</td>\n",
       "      <td>Two year</td>\n",
       "      <td>Yes</td>\n",
       "      <td>Bank transfer (automatic)</td>\n",
       "      <td>52.55</td>\n",
       "      <td>0</td>\n",
       "      <td>No</td>\n",
       "    </tr>\n",
       "    <tr>\n",
       "      <th>753</th>\n",
       "      <td>Male</td>\n",
       "      <td>0</td>\n",
       "      <td>No</td>\n",
       "      <td>Yes</td>\n",
       "      <td>0</td>\n",
       "      <td>Yes</td>\n",
       "      <td>No</td>\n",
       "      <td>No</td>\n",
       "      <td>No internet service</td>\n",
       "      <td>No internet service</td>\n",
       "      <td>No internet service</td>\n",
       "      <td>No internet service</td>\n",
       "      <td>No internet service</td>\n",
       "      <td>No internet service</td>\n",
       "      <td>Two year</td>\n",
       "      <td>No</td>\n",
       "      <td>Mailed check</td>\n",
       "      <td>20.25</td>\n",
       "      <td>0</td>\n",
       "      <td>No</td>\n",
       "    </tr>\n",
       "    <tr>\n",
       "      <th>936</th>\n",
       "      <td>Female</td>\n",
       "      <td>0</td>\n",
       "      <td>Yes</td>\n",
       "      <td>Yes</td>\n",
       "      <td>0</td>\n",
       "      <td>Yes</td>\n",
       "      <td>No</td>\n",
       "      <td>DSL</td>\n",
       "      <td>Yes</td>\n",
       "      <td>Yes</td>\n",
       "      <td>Yes</td>\n",
       "      <td>No</td>\n",
       "      <td>Yes</td>\n",
       "      <td>Yes</td>\n",
       "      <td>Two year</td>\n",
       "      <td>No</td>\n",
       "      <td>Mailed check</td>\n",
       "      <td>80.85</td>\n",
       "      <td>0</td>\n",
       "      <td>No</td>\n",
       "    </tr>\n",
       "    <tr>\n",
       "      <th>1082</th>\n",
       "      <td>Male</td>\n",
       "      <td>0</td>\n",
       "      <td>Yes</td>\n",
       "      <td>Yes</td>\n",
       "      <td>0</td>\n",
       "      <td>Yes</td>\n",
       "      <td>Yes</td>\n",
       "      <td>No</td>\n",
       "      <td>No internet service</td>\n",
       "      <td>No internet service</td>\n",
       "      <td>No internet service</td>\n",
       "      <td>No internet service</td>\n",
       "      <td>No internet service</td>\n",
       "      <td>No internet service</td>\n",
       "      <td>Two year</td>\n",
       "      <td>No</td>\n",
       "      <td>Mailed check</td>\n",
       "      <td>25.75</td>\n",
       "      <td>0</td>\n",
       "      <td>No</td>\n",
       "    </tr>\n",
       "    <tr>\n",
       "      <th>1340</th>\n",
       "      <td>Female</td>\n",
       "      <td>0</td>\n",
       "      <td>Yes</td>\n",
       "      <td>Yes</td>\n",
       "      <td>0</td>\n",
       "      <td>No</td>\n",
       "      <td>No phone service</td>\n",
       "      <td>DSL</td>\n",
       "      <td>Yes</td>\n",
       "      <td>Yes</td>\n",
       "      <td>Yes</td>\n",
       "      <td>Yes</td>\n",
       "      <td>Yes</td>\n",
       "      <td>No</td>\n",
       "      <td>Two year</td>\n",
       "      <td>No</td>\n",
       "      <td>Credit card (automatic)</td>\n",
       "      <td>56.05</td>\n",
       "      <td>0</td>\n",
       "      <td>No</td>\n",
       "    </tr>\n",
       "    <tr>\n",
       "      <th>3331</th>\n",
       "      <td>Male</td>\n",
       "      <td>0</td>\n",
       "      <td>Yes</td>\n",
       "      <td>Yes</td>\n",
       "      <td>0</td>\n",
       "      <td>Yes</td>\n",
       "      <td>No</td>\n",
       "      <td>No</td>\n",
       "      <td>No internet service</td>\n",
       "      <td>No internet service</td>\n",
       "      <td>No internet service</td>\n",
       "      <td>No internet service</td>\n",
       "      <td>No internet service</td>\n",
       "      <td>No internet service</td>\n",
       "      <td>Two year</td>\n",
       "      <td>No</td>\n",
       "      <td>Mailed check</td>\n",
       "      <td>19.85</td>\n",
       "      <td>0</td>\n",
       "      <td>No</td>\n",
       "    </tr>\n",
       "    <tr>\n",
       "      <th>3826</th>\n",
       "      <td>Male</td>\n",
       "      <td>0</td>\n",
       "      <td>Yes</td>\n",
       "      <td>Yes</td>\n",
       "      <td>0</td>\n",
       "      <td>Yes</td>\n",
       "      <td>Yes</td>\n",
       "      <td>No</td>\n",
       "      <td>No internet service</td>\n",
       "      <td>No internet service</td>\n",
       "      <td>No internet service</td>\n",
       "      <td>No internet service</td>\n",
       "      <td>No internet service</td>\n",
       "      <td>No internet service</td>\n",
       "      <td>Two year</td>\n",
       "      <td>No</td>\n",
       "      <td>Mailed check</td>\n",
       "      <td>25.35</td>\n",
       "      <td>0</td>\n",
       "      <td>No</td>\n",
       "    </tr>\n",
       "    <tr>\n",
       "      <th>4380</th>\n",
       "      <td>Female</td>\n",
       "      <td>0</td>\n",
       "      <td>Yes</td>\n",
       "      <td>Yes</td>\n",
       "      <td>0</td>\n",
       "      <td>Yes</td>\n",
       "      <td>No</td>\n",
       "      <td>No</td>\n",
       "      <td>No internet service</td>\n",
       "      <td>No internet service</td>\n",
       "      <td>No internet service</td>\n",
       "      <td>No internet service</td>\n",
       "      <td>No internet service</td>\n",
       "      <td>No internet service</td>\n",
       "      <td>Two year</td>\n",
       "      <td>No</td>\n",
       "      <td>Mailed check</td>\n",
       "      <td>20.00</td>\n",
       "      <td>0</td>\n",
       "      <td>No</td>\n",
       "    </tr>\n",
       "    <tr>\n",
       "      <th>5218</th>\n",
       "      <td>Male</td>\n",
       "      <td>0</td>\n",
       "      <td>Yes</td>\n",
       "      <td>Yes</td>\n",
       "      <td>0</td>\n",
       "      <td>Yes</td>\n",
       "      <td>No</td>\n",
       "      <td>No</td>\n",
       "      <td>No internet service</td>\n",
       "      <td>No internet service</td>\n",
       "      <td>No internet service</td>\n",
       "      <td>No internet service</td>\n",
       "      <td>No internet service</td>\n",
       "      <td>No internet service</td>\n",
       "      <td>One year</td>\n",
       "      <td>Yes</td>\n",
       "      <td>Mailed check</td>\n",
       "      <td>19.70</td>\n",
       "      <td>0</td>\n",
       "      <td>No</td>\n",
       "    </tr>\n",
       "    <tr>\n",
       "      <th>6670</th>\n",
       "      <td>Female</td>\n",
       "      <td>0</td>\n",
       "      <td>Yes</td>\n",
       "      <td>Yes</td>\n",
       "      <td>0</td>\n",
       "      <td>Yes</td>\n",
       "      <td>Yes</td>\n",
       "      <td>DSL</td>\n",
       "      <td>No</td>\n",
       "      <td>Yes</td>\n",
       "      <td>Yes</td>\n",
       "      <td>Yes</td>\n",
       "      <td>Yes</td>\n",
       "      <td>No</td>\n",
       "      <td>Two year</td>\n",
       "      <td>No</td>\n",
       "      <td>Mailed check</td>\n",
       "      <td>73.35</td>\n",
       "      <td>0</td>\n",
       "      <td>No</td>\n",
       "    </tr>\n",
       "    <tr>\n",
       "      <th>6754</th>\n",
       "      <td>Male</td>\n",
       "      <td>0</td>\n",
       "      <td>No</td>\n",
       "      <td>Yes</td>\n",
       "      <td>0</td>\n",
       "      <td>Yes</td>\n",
       "      <td>Yes</td>\n",
       "      <td>DSL</td>\n",
       "      <td>Yes</td>\n",
       "      <td>Yes</td>\n",
       "      <td>No</td>\n",
       "      <td>Yes</td>\n",
       "      <td>No</td>\n",
       "      <td>No</td>\n",
       "      <td>Two year</td>\n",
       "      <td>Yes</td>\n",
       "      <td>Bank transfer (automatic)</td>\n",
       "      <td>61.90</td>\n",
       "      <td>0</td>\n",
       "      <td>No</td>\n",
       "    </tr>\n",
       "  </tbody>\n",
       "</table>\n",
       "</div>"
      ],
      "text/plain": [
       "      gender  SeniorCitizen Partner Dependents  tenure PhoneService  \\\n",
       "488   Female              0     Yes        Yes       0           No   \n",
       "753     Male              0      No        Yes       0          Yes   \n",
       "936   Female              0     Yes        Yes       0          Yes   \n",
       "1082    Male              0     Yes        Yes       0          Yes   \n",
       "1340  Female              0     Yes        Yes       0           No   \n",
       "3331    Male              0     Yes        Yes       0          Yes   \n",
       "3826    Male              0     Yes        Yes       0          Yes   \n",
       "4380  Female              0     Yes        Yes       0          Yes   \n",
       "5218    Male              0     Yes        Yes       0          Yes   \n",
       "6670  Female              0     Yes        Yes       0          Yes   \n",
       "6754    Male              0      No        Yes       0          Yes   \n",
       "\n",
       "         MultipleLines InternetService       OnlineSecurity  \\\n",
       "488   No phone service             DSL                  Yes   \n",
       "753                 No              No  No internet service   \n",
       "936                 No             DSL                  Yes   \n",
       "1082               Yes              No  No internet service   \n",
       "1340  No phone service             DSL                  Yes   \n",
       "3331                No              No  No internet service   \n",
       "3826               Yes              No  No internet service   \n",
       "4380                No              No  No internet service   \n",
       "5218                No              No  No internet service   \n",
       "6670               Yes             DSL                   No   \n",
       "6754               Yes             DSL                  Yes   \n",
       "\n",
       "             OnlineBackup     DeviceProtection          TechSupport  \\\n",
       "488                    No                  Yes                  Yes   \n",
       "753   No internet service  No internet service  No internet service   \n",
       "936                   Yes                  Yes                   No   \n",
       "1082  No internet service  No internet service  No internet service   \n",
       "1340                  Yes                  Yes                  Yes   \n",
       "3331  No internet service  No internet service  No internet service   \n",
       "3826  No internet service  No internet service  No internet service   \n",
       "4380  No internet service  No internet service  No internet service   \n",
       "5218  No internet service  No internet service  No internet service   \n",
       "6670                  Yes                  Yes                  Yes   \n",
       "6754                  Yes                   No                  Yes   \n",
       "\n",
       "              StreamingTV      StreamingMovies  Contract PaperlessBilling  \\\n",
       "488                   Yes                   No  Two year              Yes   \n",
       "753   No internet service  No internet service  Two year               No   \n",
       "936                   Yes                  Yes  Two year               No   \n",
       "1082  No internet service  No internet service  Two year               No   \n",
       "1340                  Yes                   No  Two year               No   \n",
       "3331  No internet service  No internet service  Two year               No   \n",
       "3826  No internet service  No internet service  Two year               No   \n",
       "4380  No internet service  No internet service  Two year               No   \n",
       "5218  No internet service  No internet service  One year              Yes   \n",
       "6670                  Yes                   No  Two year               No   \n",
       "6754                   No                   No  Two year              Yes   \n",
       "\n",
       "                  PaymentMethod  MonthlyCharges TotalCharges Churn  \n",
       "488   Bank transfer (automatic)           52.55            0    No  \n",
       "753                Mailed check           20.25            0    No  \n",
       "936                Mailed check           80.85            0    No  \n",
       "1082               Mailed check           25.75            0    No  \n",
       "1340    Credit card (automatic)           56.05            0    No  \n",
       "3331               Mailed check           19.85            0    No  \n",
       "3826               Mailed check           25.35            0    No  \n",
       "4380               Mailed check           20.00            0    No  \n",
       "5218               Mailed check           19.70            0    No  \n",
       "6670               Mailed check           73.35            0    No  \n",
       "6754  Bank transfer (automatic)           61.90            0    No  "
      ]
     },
     "metadata": {},
     "execution_count": 21
    }
   ],
   "metadata": {}
  },
  {
   "cell_type": "code",
   "execution_count": 22,
   "source": [
    "#change TotalCharge datatype\r\n",
    "dfc1.TotalCharges = pd.to_numeric(dfc1.TotalCharges)\r\n",
    "print(dfc1.TotalCharges.dtype)     "
   ],
   "outputs": [
    {
     "output_type": "stream",
     "name": "stdout",
     "text": [
      "float64\n"
     ]
    }
   ],
   "metadata": {}
  },
  {
   "cell_type": "code",
   "execution_count": 23,
   "source": [
    "def print_unique_col_values(df):\r\n",
    "    \r\n",
    "    print('Unique values from categorical columns,\\n')\r\n",
    "    for column in df.columns:\r\n",
    "        if(df[column].dtypes == 'object'): \r\n",
    "            print(f'column: {column}, Unique vlaues: {df[column].unique()}')\r\n",
    "        \r\n",
    "print_unique_col_values(dfc1)"
   ],
   "outputs": [
    {
     "output_type": "stream",
     "name": "stdout",
     "text": [
      "Unique values from categorical columns,\n",
      "\n",
      "column: gender, Unique vlaues: ['Female' 'Male']\n",
      "column: Partner, Unique vlaues: ['Yes' 'No']\n",
      "column: Dependents, Unique vlaues: ['No' 'Yes']\n",
      "column: PhoneService, Unique vlaues: ['No' 'Yes']\n",
      "column: MultipleLines, Unique vlaues: ['No phone service' 'No' 'Yes']\n",
      "column: InternetService, Unique vlaues: ['DSL' 'Fiber optic' 'No']\n",
      "column: OnlineSecurity, Unique vlaues: ['No' 'Yes' 'No internet service']\n",
      "column: OnlineBackup, Unique vlaues: ['Yes' 'No' 'No internet service']\n",
      "column: DeviceProtection, Unique vlaues: ['No' 'Yes' 'No internet service']\n",
      "column: TechSupport, Unique vlaues: ['No' 'Yes' 'No internet service']\n",
      "column: StreamingTV, Unique vlaues: ['No' 'Yes' 'No internet service']\n",
      "column: StreamingMovies, Unique vlaues: ['No' 'Yes' 'No internet service']\n",
      "column: Contract, Unique vlaues: ['Month-to-month' 'One year' 'Two year']\n",
      "column: PaperlessBilling, Unique vlaues: ['Yes' 'No']\n",
      "column: PaymentMethod, Unique vlaues: ['Electronic check' 'Mailed check' 'Bank transfer (automatic)'\n",
      " 'Credit card (automatic)']\n",
      "column: Churn, Unique vlaues: ['No' 'Yes']\n"
     ]
    }
   ],
   "metadata": {}
  },
  {
   "cell_type": "code",
   "execution_count": 24,
   "source": [
    "#replace 'No phone service' with 'No' in column MultipleLines and ''No internet service' with 'no' in columns OnlineSecurity, DeviceProtection, TechSupport, StreamingTV, StreamingMovies. \r\n",
    "dfc1.replace('No internet service', 'No', inplace = True)\r\n",
    "dfc1.replace('No phone service', 'No', inplace = True)\r\n",
    "\r\n",
    "print_unique_col_values(dfc1)"
   ],
   "outputs": [
    {
     "output_type": "stream",
     "name": "stdout",
     "text": [
      "Unique values from categorical columns,\n",
      "\n",
      "column: gender, Unique vlaues: ['Female' 'Male']\n",
      "column: Partner, Unique vlaues: ['Yes' 'No']\n",
      "column: Dependents, Unique vlaues: ['No' 'Yes']\n",
      "column: PhoneService, Unique vlaues: ['No' 'Yes']\n",
      "column: MultipleLines, Unique vlaues: ['No' 'Yes']\n",
      "column: InternetService, Unique vlaues: ['DSL' 'Fiber optic' 'No']\n",
      "column: OnlineSecurity, Unique vlaues: ['No' 'Yes']\n",
      "column: OnlineBackup, Unique vlaues: ['Yes' 'No']\n",
      "column: DeviceProtection, Unique vlaues: ['No' 'Yes']\n",
      "column: TechSupport, Unique vlaues: ['No' 'Yes']\n",
      "column: StreamingTV, Unique vlaues: ['No' 'Yes']\n",
      "column: StreamingMovies, Unique vlaues: ['No' 'Yes']\n",
      "column: Contract, Unique vlaues: ['Month-to-month' 'One year' 'Two year']\n",
      "column: PaperlessBilling, Unique vlaues: ['Yes' 'No']\n",
      "column: PaymentMethod, Unique vlaues: ['Electronic check' 'Mailed check' 'Bank transfer (automatic)'\n",
      " 'Credit card (automatic)']\n",
      "column: Churn, Unique vlaues: ['No' 'Yes']\n"
     ]
    }
   ],
   "metadata": {}
  },
  {
   "cell_type": "code",
   "execution_count": 25,
   "source": [
    "# Converting churn to numeric\r\n",
    "dfc1['Churn'].replace({'Yes': 1,'No': 0},inplace=True)"
   ],
   "outputs": [],
   "metadata": {}
  },
  {
   "cell_type": "code",
   "execution_count": 26,
   "source": [
    "# cleaned dataset after encoded\r\n",
    "dfc2 = pd.get_dummies(data = dfc1)\r\n",
    "\r\n",
    "dfc2.sample(5)"
   ],
   "outputs": [
    {
     "output_type": "execute_result",
     "data": {
      "text/html": [
       "<div>\n",
       "<style scoped>\n",
       "    .dataframe tbody tr th:only-of-type {\n",
       "        vertical-align: middle;\n",
       "    }\n",
       "\n",
       "    .dataframe tbody tr th {\n",
       "        vertical-align: top;\n",
       "    }\n",
       "\n",
       "    .dataframe thead th {\n",
       "        text-align: right;\n",
       "    }\n",
       "</style>\n",
       "<table border=\"1\" class=\"dataframe\">\n",
       "  <thead>\n",
       "    <tr style=\"text-align: right;\">\n",
       "      <th></th>\n",
       "      <th>SeniorCitizen</th>\n",
       "      <th>tenure</th>\n",
       "      <th>MonthlyCharges</th>\n",
       "      <th>TotalCharges</th>\n",
       "      <th>Churn</th>\n",
       "      <th>gender_Female</th>\n",
       "      <th>gender_Male</th>\n",
       "      <th>Partner_No</th>\n",
       "      <th>Partner_Yes</th>\n",
       "      <th>Dependents_No</th>\n",
       "      <th>...</th>\n",
       "      <th>StreamingMovies_Yes</th>\n",
       "      <th>Contract_Month-to-month</th>\n",
       "      <th>Contract_One year</th>\n",
       "      <th>Contract_Two year</th>\n",
       "      <th>PaperlessBilling_No</th>\n",
       "      <th>PaperlessBilling_Yes</th>\n",
       "      <th>PaymentMethod_Bank transfer (automatic)</th>\n",
       "      <th>PaymentMethod_Credit card (automatic)</th>\n",
       "      <th>PaymentMethod_Electronic check</th>\n",
       "      <th>PaymentMethod_Mailed check</th>\n",
       "    </tr>\n",
       "  </thead>\n",
       "  <tbody>\n",
       "    <tr>\n",
       "      <th>5779</th>\n",
       "      <td>0</td>\n",
       "      <td>39</td>\n",
       "      <td>95.55</td>\n",
       "      <td>3692.85</td>\n",
       "      <td>1</td>\n",
       "      <td>1</td>\n",
       "      <td>0</td>\n",
       "      <td>1</td>\n",
       "      <td>0</td>\n",
       "      <td>1</td>\n",
       "      <td>...</td>\n",
       "      <td>0</td>\n",
       "      <td>0</td>\n",
       "      <td>1</td>\n",
       "      <td>0</td>\n",
       "      <td>0</td>\n",
       "      <td>1</td>\n",
       "      <td>0</td>\n",
       "      <td>0</td>\n",
       "      <td>1</td>\n",
       "      <td>0</td>\n",
       "    </tr>\n",
       "    <tr>\n",
       "      <th>1318</th>\n",
       "      <td>0</td>\n",
       "      <td>8</td>\n",
       "      <td>66.70</td>\n",
       "      <td>579.00</td>\n",
       "      <td>0</td>\n",
       "      <td>0</td>\n",
       "      <td>1</td>\n",
       "      <td>1</td>\n",
       "      <td>0</td>\n",
       "      <td>1</td>\n",
       "      <td>...</td>\n",
       "      <td>1</td>\n",
       "      <td>1</td>\n",
       "      <td>0</td>\n",
       "      <td>0</td>\n",
       "      <td>0</td>\n",
       "      <td>1</td>\n",
       "      <td>0</td>\n",
       "      <td>0</td>\n",
       "      <td>1</td>\n",
       "      <td>0</td>\n",
       "    </tr>\n",
       "    <tr>\n",
       "      <th>4726</th>\n",
       "      <td>0</td>\n",
       "      <td>72</td>\n",
       "      <td>49.20</td>\n",
       "      <td>3580.95</td>\n",
       "      <td>0</td>\n",
       "      <td>1</td>\n",
       "      <td>0</td>\n",
       "      <td>0</td>\n",
       "      <td>1</td>\n",
       "      <td>1</td>\n",
       "      <td>...</td>\n",
       "      <td>1</td>\n",
       "      <td>0</td>\n",
       "      <td>0</td>\n",
       "      <td>1</td>\n",
       "      <td>0</td>\n",
       "      <td>1</td>\n",
       "      <td>0</td>\n",
       "      <td>0</td>\n",
       "      <td>1</td>\n",
       "      <td>0</td>\n",
       "    </tr>\n",
       "    <tr>\n",
       "      <th>346</th>\n",
       "      <td>0</td>\n",
       "      <td>2</td>\n",
       "      <td>90.40</td>\n",
       "      <td>168.20</td>\n",
       "      <td>1</td>\n",
       "      <td>1</td>\n",
       "      <td>0</td>\n",
       "      <td>1</td>\n",
       "      <td>0</td>\n",
       "      <td>1</td>\n",
       "      <td>...</td>\n",
       "      <td>1</td>\n",
       "      <td>1</td>\n",
       "      <td>0</td>\n",
       "      <td>0</td>\n",
       "      <td>0</td>\n",
       "      <td>1</td>\n",
       "      <td>0</td>\n",
       "      <td>0</td>\n",
       "      <td>1</td>\n",
       "      <td>0</td>\n",
       "    </tr>\n",
       "    <tr>\n",
       "      <th>5547</th>\n",
       "      <td>0</td>\n",
       "      <td>3</td>\n",
       "      <td>89.45</td>\n",
       "      <td>240.45</td>\n",
       "      <td>1</td>\n",
       "      <td>1</td>\n",
       "      <td>0</td>\n",
       "      <td>1</td>\n",
       "      <td>0</td>\n",
       "      <td>1</td>\n",
       "      <td>...</td>\n",
       "      <td>1</td>\n",
       "      <td>1</td>\n",
       "      <td>0</td>\n",
       "      <td>0</td>\n",
       "      <td>0</td>\n",
       "      <td>1</td>\n",
       "      <td>0</td>\n",
       "      <td>0</td>\n",
       "      <td>1</td>\n",
       "      <td>0</td>\n",
       "    </tr>\n",
       "  </tbody>\n",
       "</table>\n",
       "<p>5 rows × 39 columns</p>\n",
       "</div>"
      ],
      "text/plain": [
       "      SeniorCitizen  tenure  MonthlyCharges  TotalCharges  Churn  \\\n",
       "5779              0      39           95.55       3692.85      1   \n",
       "1318              0       8           66.70        579.00      0   \n",
       "4726              0      72           49.20       3580.95      0   \n",
       "346               0       2           90.40        168.20      1   \n",
       "5547              0       3           89.45        240.45      1   \n",
       "\n",
       "      gender_Female  gender_Male  Partner_No  Partner_Yes  Dependents_No  ...  \\\n",
       "5779              1            0           1            0              1  ...   \n",
       "1318              0            1           1            0              1  ...   \n",
       "4726              1            0           0            1              1  ...   \n",
       "346               1            0           1            0              1  ...   \n",
       "5547              1            0           1            0              1  ...   \n",
       "\n",
       "      StreamingMovies_Yes  Contract_Month-to-month  Contract_One year  \\\n",
       "5779                    0                        0                  1   \n",
       "1318                    1                        1                  0   \n",
       "4726                    1                        0                  0   \n",
       "346                     1                        1                  0   \n",
       "5547                    1                        1                  0   \n",
       "\n",
       "      Contract_Two year  PaperlessBilling_No  PaperlessBilling_Yes  \\\n",
       "5779                  0                    0                     1   \n",
       "1318                  0                    0                     1   \n",
       "4726                  1                    0                     1   \n",
       "346                   0                    0                     1   \n",
       "5547                  0                    0                     1   \n",
       "\n",
       "      PaymentMethod_Bank transfer (automatic)  \\\n",
       "5779                                        0   \n",
       "1318                                        0   \n",
       "4726                                        0   \n",
       "346                                         0   \n",
       "5547                                        0   \n",
       "\n",
       "      PaymentMethod_Credit card (automatic)  PaymentMethod_Electronic check  \\\n",
       "5779                                      0                               1   \n",
       "1318                                      0                               1   \n",
       "4726                                      0                               1   \n",
       "346                                       0                               1   \n",
       "5547                                      0                               1   \n",
       "\n",
       "      PaymentMethod_Mailed check  \n",
       "5779                           0  \n",
       "1318                           0  \n",
       "4726                           0  \n",
       "346                            0  \n",
       "5547                           0  \n",
       "\n",
       "[5 rows x 39 columns]"
      ]
     },
     "metadata": {},
     "execution_count": 26
    }
   ],
   "metadata": {}
  },
  {
   "cell_type": "code",
   "execution_count": 27,
   "source": [
    "col_sc = ['tenure','MonthlyCharges','TotalCharges']\r\n",
    "\r\n",
    "#using pipeline\r\n",
    "pipe = Pipeline([('minmax_scaler', MinMaxScaler())])\r\n",
    "dfc2[col_sc] = pipe.fit_transform(dfc2[col_sc])\r\n",
    "dfc2[col_sc].describe()"
   ],
   "outputs": [
    {
     "output_type": "execute_result",
     "data": {
      "text/html": [
       "<div>\n",
       "<style scoped>\n",
       "    .dataframe tbody tr th:only-of-type {\n",
       "        vertical-align: middle;\n",
       "    }\n",
       "\n",
       "    .dataframe tbody tr th {\n",
       "        vertical-align: top;\n",
       "    }\n",
       "\n",
       "    .dataframe thead th {\n",
       "        text-align: right;\n",
       "    }\n",
       "</style>\n",
       "<table border=\"1\" class=\"dataframe\">\n",
       "  <thead>\n",
       "    <tr style=\"text-align: right;\">\n",
       "      <th></th>\n",
       "      <th>tenure</th>\n",
       "      <th>MonthlyCharges</th>\n",
       "      <th>TotalCharges</th>\n",
       "    </tr>\n",
       "  </thead>\n",
       "  <tbody>\n",
       "    <tr>\n",
       "      <th>count</th>\n",
       "      <td>7043.000000</td>\n",
       "      <td>7043.000000</td>\n",
       "      <td>7043.000000</td>\n",
       "    </tr>\n",
       "    <tr>\n",
       "      <th>mean</th>\n",
       "      <td>0.449599</td>\n",
       "      <td>0.462803</td>\n",
       "      <td>0.262497</td>\n",
       "    </tr>\n",
       "    <tr>\n",
       "      <th>std</th>\n",
       "      <td>0.341104</td>\n",
       "      <td>0.299403</td>\n",
       "      <td>0.261007</td>\n",
       "    </tr>\n",
       "    <tr>\n",
       "      <th>min</th>\n",
       "      <td>0.000000</td>\n",
       "      <td>0.000000</td>\n",
       "      <td>0.000000</td>\n",
       "    </tr>\n",
       "    <tr>\n",
       "      <th>25%</th>\n",
       "      <td>0.125000</td>\n",
       "      <td>0.171642</td>\n",
       "      <td>0.045891</td>\n",
       "    </tr>\n",
       "    <tr>\n",
       "      <th>50%</th>\n",
       "      <td>0.402778</td>\n",
       "      <td>0.518408</td>\n",
       "      <td>0.160574</td>\n",
       "    </tr>\n",
       "    <tr>\n",
       "      <th>75%</th>\n",
       "      <td>0.763889</td>\n",
       "      <td>0.712438</td>\n",
       "      <td>0.436003</td>\n",
       "    </tr>\n",
       "    <tr>\n",
       "      <th>max</th>\n",
       "      <td>1.000000</td>\n",
       "      <td>1.000000</td>\n",
       "      <td>1.000000</td>\n",
       "    </tr>\n",
       "  </tbody>\n",
       "</table>\n",
       "</div>"
      ],
      "text/plain": [
       "            tenure  MonthlyCharges  TotalCharges\n",
       "count  7043.000000     7043.000000   7043.000000\n",
       "mean      0.449599        0.462803      0.262497\n",
       "std       0.341104        0.299403      0.261007\n",
       "min       0.000000        0.000000      0.000000\n",
       "25%       0.125000        0.171642      0.045891\n",
       "50%       0.402778        0.518408      0.160574\n",
       "75%       0.763889        0.712438      0.436003\n",
       "max       1.000000        1.000000      1.000000"
      ]
     },
     "metadata": {},
     "execution_count": 27
    }
   ],
   "metadata": {}
  },
  {
   "cell_type": "code",
   "execution_count": 28,
   "source": [
    "# Train Test Split\r\n",
    "X = dfc2.drop('Churn',axis = 'columns')\r\n",
    "\r\n",
    "y = dfc2['Churn']\r\n",
    "\r\n",
    "X_train, X_test, y_train, y_test = train_test_split(X, y, test_size= 0.2, random_state= 42)"
   ],
   "outputs": [],
   "metadata": {}
  },
  {
   "cell_type": "markdown",
   "source": [
    "## Modeling\r\n",
    "---"
   ],
   "metadata": {}
  },
  {
   "cell_type": "code",
   "execution_count": 29,
   "source": [
    "model = tf.keras.Sequential([\r\n",
    "    tf.keras.layers.Dense(38, input_shape= (38,), activation= 'relu'),\r\n",
    "    tf.keras.layers.Dense(14, activation= 'relu'),\r\n",
    "    tf.keras.layers.Dense(1, activation= 'sigmoid')     \r\n",
    "])\r\n",
    "\r\n",
    "model.compile(optimizer= 'adam',\r\n",
    "             loss='binary_crossentropy',\r\n",
    "             metrics=['accuracy'])"
   ],
   "outputs": [],
   "metadata": {}
  },
  {
   "cell_type": "markdown",
   "source": [
    "### Model Training"
   ],
   "metadata": {}
  },
  {
   "cell_type": "code",
   "execution_count": 30,
   "source": [
    "model.fit(X_train, y_train, epochs= 100)"
   ],
   "outputs": [
    {
     "output_type": "stream",
     "name": "stdout",
     "text": [
      "Epoch 1/100\n",
      "177/177 [==============================] - 2s 4ms/step - loss: 0.4898 - accuracy: 0.7632\n",
      "Epoch 2/100\n",
      "177/177 [==============================] - 1s 4ms/step - loss: 0.4305 - accuracy: 0.7922\n",
      "Epoch 3/100\n",
      "177/177 [==============================] - 1s 3ms/step - loss: 0.4254 - accuracy: 0.7957\n",
      "Epoch 4/100\n",
      "177/177 [==============================] - 1s 3ms/step - loss: 0.4230 - accuracy: 0.7989\n",
      "Epoch 5/100\n",
      "177/177 [==============================] - 1s 4ms/step - loss: 0.4201 - accuracy: 0.8019\n",
      "Epoch 6/100\n",
      "177/177 [==============================] - 1s 3ms/step - loss: 0.4183 - accuracy: 0.8023\n",
      "Epoch 7/100\n",
      "177/177 [==============================] - 1s 4ms/step - loss: 0.4156 - accuracy: 0.8033\n",
      "Epoch 8/100\n",
      "177/177 [==============================] - 1s 3ms/step - loss: 0.4146 - accuracy: 0.8049\n",
      "Epoch 9/100\n",
      "177/177 [==============================] - 0s 3ms/step - loss: 0.4156 - accuracy: 0.8019\n",
      "Epoch 10/100\n",
      "177/177 [==============================] - 1s 3ms/step - loss: 0.4113 - accuracy: 0.8039\n",
      "Epoch 11/100\n",
      "177/177 [==============================] - 1s 3ms/step - loss: 0.4098 - accuracy: 0.8069\n",
      "Epoch 12/100\n",
      "177/177 [==============================] - 0s 3ms/step - loss: 0.4083 - accuracy: 0.8071\n",
      "Epoch 13/100\n",
      "177/177 [==============================] - 1s 3ms/step - loss: 0.4076 - accuracy: 0.8051\n",
      "Epoch 14/100\n",
      "177/177 [==============================] - 1s 3ms/step - loss: 0.4071 - accuracy: 0.8058\n",
      "Epoch 15/100\n",
      "177/177 [==============================] - 1s 3ms/step - loss: 0.4048 - accuracy: 0.8069\n",
      "Epoch 16/100\n",
      "177/177 [==============================] - 0s 3ms/step - loss: 0.4033 - accuracy: 0.8076\n",
      "Epoch 17/100\n",
      "177/177 [==============================] - 1s 3ms/step - loss: 0.4008 - accuracy: 0.8094\n",
      "Epoch 18/100\n",
      "177/177 [==============================] - 0s 3ms/step - loss: 0.3999 - accuracy: 0.8110\n",
      "Epoch 19/100\n",
      "177/177 [==============================] - 0s 3ms/step - loss: 0.3977 - accuracy: 0.8106\n",
      "Epoch 20/100\n",
      "177/177 [==============================] - 1s 3ms/step - loss: 0.3977 - accuracy: 0.8158\n",
      "Epoch 21/100\n",
      "177/177 [==============================] - 1s 3ms/step - loss: 0.3964 - accuracy: 0.8124\n",
      "Epoch 22/100\n",
      "177/177 [==============================] - 1s 4ms/step - loss: 0.3920 - accuracy: 0.8172\n",
      "Epoch 23/100\n",
      "177/177 [==============================] - 1s 4ms/step - loss: 0.3922 - accuracy: 0.8136\n",
      "Epoch 24/100\n",
      "177/177 [==============================] - 1s 3ms/step - loss: 0.3926 - accuracy: 0.8149\n",
      "Epoch 25/100\n",
      "177/177 [==============================] - 1s 3ms/step - loss: 0.3885 - accuracy: 0.8163\n",
      "Epoch 26/100\n",
      "177/177 [==============================] - 1s 4ms/step - loss: 0.3882 - accuracy: 0.8165\n",
      "Epoch 27/100\n",
      "177/177 [==============================] - 1s 4ms/step - loss: 0.3869 - accuracy: 0.8170\n",
      "Epoch 28/100\n",
      "177/177 [==============================] - 1s 3ms/step - loss: 0.3845 - accuracy: 0.8204\n",
      "Epoch 29/100\n",
      "177/177 [==============================] - 1s 3ms/step - loss: 0.3860 - accuracy: 0.8209\n",
      "Epoch 30/100\n",
      "177/177 [==============================] - 1s 3ms/step - loss: 0.3833 - accuracy: 0.8174\n",
      "Epoch 31/100\n",
      "177/177 [==============================] - 1s 3ms/step - loss: 0.3821 - accuracy: 0.8182\n",
      "Epoch 32/100\n",
      "177/177 [==============================] - 1s 3ms/step - loss: 0.3795 - accuracy: 0.8216\n",
      "Epoch 33/100\n",
      "177/177 [==============================] - 1s 3ms/step - loss: 0.3788 - accuracy: 0.8181\n",
      "Epoch 34/100\n",
      "177/177 [==============================] - 1s 3ms/step - loss: 0.3774 - accuracy: 0.8211\n",
      "Epoch 35/100\n",
      "177/177 [==============================] - 1s 4ms/step - loss: 0.3753 - accuracy: 0.8230\n",
      "Epoch 36/100\n",
      "177/177 [==============================] - 1s 3ms/step - loss: 0.3746 - accuracy: 0.8225\n",
      "Epoch 37/100\n",
      "177/177 [==============================] - 1s 4ms/step - loss: 0.3720 - accuracy: 0.8237\n",
      "Epoch 38/100\n",
      "177/177 [==============================] - 1s 4ms/step - loss: 0.3722 - accuracy: 0.8214\n",
      "Epoch 39/100\n",
      "177/177 [==============================] - 1s 4ms/step - loss: 0.3702 - accuracy: 0.8261\n",
      "Epoch 40/100\n",
      "177/177 [==============================] - 1s 3ms/step - loss: 0.3699 - accuracy: 0.8229\n",
      "Epoch 41/100\n",
      "177/177 [==============================] - 1s 3ms/step - loss: 0.3728 - accuracy: 0.8222\n",
      "Epoch 42/100\n",
      "177/177 [==============================] - 1s 3ms/step - loss: 0.3674 - accuracy: 0.8268\n",
      "Epoch 43/100\n",
      "177/177 [==============================] - 1s 3ms/step - loss: 0.3660 - accuracy: 0.8253\n",
      "Epoch 44/100\n",
      "177/177 [==============================] - 1s 3ms/step - loss: 0.3683 - accuracy: 0.8269\n",
      "Epoch 45/100\n",
      "177/177 [==============================] - 1s 3ms/step - loss: 0.3618 - accuracy: 0.8284\n",
      "Epoch 46/100\n",
      "177/177 [==============================] - 1s 4ms/step - loss: 0.3623 - accuracy: 0.8285\n",
      "Epoch 47/100\n",
      "177/177 [==============================] - 1s 4ms/step - loss: 0.3593 - accuracy: 0.8301\n",
      "Epoch 48/100\n",
      "177/177 [==============================] - 1s 4ms/step - loss: 0.3605 - accuracy: 0.8291\n",
      "Epoch 49/100\n",
      "177/177 [==============================] - 1s 3ms/step - loss: 0.3579 - accuracy: 0.8316\n",
      "Epoch 50/100\n",
      "177/177 [==============================] - 1s 3ms/step - loss: 0.3579 - accuracy: 0.8264\n",
      "Epoch 51/100\n",
      "177/177 [==============================] - 1s 3ms/step - loss: 0.3575 - accuracy: 0.8278\n",
      "Epoch 52/100\n",
      "177/177 [==============================] - 1s 3ms/step - loss: 0.3547 - accuracy: 0.8323\n",
      "Epoch 53/100\n",
      "177/177 [==============================] - 1s 3ms/step - loss: 0.3540 - accuracy: 0.8316\n",
      "Epoch 54/100\n",
      "177/177 [==============================] - 1s 3ms/step - loss: 0.3560 - accuracy: 0.8367\n",
      "Epoch 55/100\n",
      "177/177 [==============================] - 1s 3ms/step - loss: 0.3506 - accuracy: 0.8342\n",
      "Epoch 56/100\n",
      "177/177 [==============================] - 1s 3ms/step - loss: 0.3505 - accuracy: 0.8356\n",
      "Epoch 57/100\n",
      "177/177 [==============================] - 1s 3ms/step - loss: 0.3490 - accuracy: 0.8362\n",
      "Epoch 58/100\n",
      "177/177 [==============================] - 1s 3ms/step - loss: 0.3466 - accuracy: 0.8395\n",
      "Epoch 59/100\n",
      "177/177 [==============================] - 1s 4ms/step - loss: 0.3463 - accuracy: 0.8392\n",
      "Epoch 60/100\n",
      "177/177 [==============================] - 1s 3ms/step - loss: 0.3464 - accuracy: 0.8330\n",
      "Epoch 61/100\n",
      "177/177 [==============================] - 1s 3ms/step - loss: 0.3464 - accuracy: 0.8358\n",
      "Epoch 62/100\n",
      "177/177 [==============================] - 1s 3ms/step - loss: 0.3448 - accuracy: 0.8371\n",
      "Epoch 63/100\n",
      "177/177 [==============================] - 1s 3ms/step - loss: 0.3431 - accuracy: 0.8371\n",
      "Epoch 64/100\n",
      "177/177 [==============================] - 1s 3ms/step - loss: 0.3415 - accuracy: 0.8360\n",
      "Epoch 65/100\n",
      "177/177 [==============================] - 1s 3ms/step - loss: 0.3432 - accuracy: 0.8376\n",
      "Epoch 66/100\n",
      "177/177 [==============================] - 1s 3ms/step - loss: 0.3413 - accuracy: 0.8340\n",
      "Epoch 67/100\n",
      "177/177 [==============================] - 1s 3ms/step - loss: 0.3414 - accuracy: 0.8387\n",
      "Epoch 68/100\n",
      "177/177 [==============================] - 1s 3ms/step - loss: 0.3395 - accuracy: 0.8394\n",
      "Epoch 69/100\n",
      "177/177 [==============================] - 1s 3ms/step - loss: 0.3377 - accuracy: 0.8411\n",
      "Epoch 70/100\n",
      "177/177 [==============================] - 1s 3ms/step - loss: 0.3371 - accuracy: 0.8387\n",
      "Epoch 71/100\n",
      "177/177 [==============================] - 1s 3ms/step - loss: 0.3361 - accuracy: 0.8415\n",
      "Epoch 72/100\n",
      "177/177 [==============================] - 1s 3ms/step - loss: 0.3339 - accuracy: 0.8411\n",
      "Epoch 73/100\n",
      "177/177 [==============================] - 1s 3ms/step - loss: 0.3345 - accuracy: 0.8401\n",
      "Epoch 74/100\n",
      "177/177 [==============================] - 1s 3ms/step - loss: 0.3338 - accuracy: 0.8450\n",
      "Epoch 75/100\n",
      "177/177 [==============================] - 1s 3ms/step - loss: 0.3328 - accuracy: 0.8452\n",
      "Epoch 76/100\n",
      "177/177 [==============================] - 1s 3ms/step - loss: 0.3355 - accuracy: 0.8372\n",
      "Epoch 77/100\n",
      "177/177 [==============================] - 1s 3ms/step - loss: 0.3316 - accuracy: 0.8447\n",
      "Epoch 78/100\n",
      "177/177 [==============================] - 1s 3ms/step - loss: 0.3332 - accuracy: 0.8415\n",
      "Epoch 79/100\n",
      "177/177 [==============================] - 1s 3ms/step - loss: 0.3323 - accuracy: 0.8419\n",
      "Epoch 80/100\n",
      "177/177 [==============================] - 1s 3ms/step - loss: 0.3300 - accuracy: 0.8468\n",
      "Epoch 81/100\n",
      "177/177 [==============================] - 1s 3ms/step - loss: 0.3292 - accuracy: 0.8443\n",
      "Epoch 82/100\n",
      "177/177 [==============================] - 1s 3ms/step - loss: 0.3262 - accuracy: 0.8491\n",
      "Epoch 83/100\n",
      "177/177 [==============================] - 1s 3ms/step - loss: 0.3279 - accuracy: 0.8438\n",
      "Epoch 84/100\n",
      "177/177 [==============================] - 1s 3ms/step - loss: 0.3271 - accuracy: 0.8466\n",
      "Epoch 85/100\n",
      "177/177 [==============================] - 1s 3ms/step - loss: 0.3233 - accuracy: 0.8468\n",
      "Epoch 86/100\n",
      "177/177 [==============================] - 1s 3ms/step - loss: 0.3235 - accuracy: 0.8472\n",
      "Epoch 87/100\n",
      "177/177 [==============================] - 1s 3ms/step - loss: 0.3232 - accuracy: 0.8472\n",
      "Epoch 88/100\n",
      "177/177 [==============================] - 1s 3ms/step - loss: 0.3224 - accuracy: 0.8516\n",
      "Epoch 89/100\n",
      "177/177 [==============================] - 1s 3ms/step - loss: 0.3236 - accuracy: 0.8456\n",
      "Epoch 90/100\n",
      "177/177 [==============================] - 1s 3ms/step - loss: 0.3207 - accuracy: 0.8493\n",
      "Epoch 91/100\n",
      "177/177 [==============================] - 1s 3ms/step - loss: 0.3192 - accuracy: 0.8504\n",
      "Epoch 92/100\n",
      "177/177 [==============================] - 1s 3ms/step - loss: 0.3197 - accuracy: 0.8536\n",
      "Epoch 93/100\n",
      "177/177 [==============================] - 1s 3ms/step - loss: 0.3189 - accuracy: 0.8506\n",
      "Epoch 94/100\n",
      "177/177 [==============================] - 1s 3ms/step - loss: 0.3184 - accuracy: 0.8527\n",
      "Epoch 95/100\n",
      "177/177 [==============================] - 1s 3ms/step - loss: 0.3199 - accuracy: 0.8536\n",
      "Epoch 96/100\n",
      "177/177 [==============================] - 1s 3ms/step - loss: 0.3155 - accuracy: 0.8545\n",
      "Epoch 97/100\n",
      "177/177 [==============================] - 1s 3ms/step - loss: 0.3160 - accuracy: 0.8525\n",
      "Epoch 98/100\n",
      "177/177 [==============================] - 1s 3ms/step - loss: 0.3139 - accuracy: 0.8564\n",
      "Epoch 99/100\n",
      "177/177 [==============================] - 1s 4ms/step - loss: 0.3144 - accuracy: 0.8536\n",
      "Epoch 100/100\n",
      "177/177 [==============================] - 1s 3ms/step - loss: 0.3152 - accuracy: 0.8534\n"
     ]
    },
    {
     "output_type": "execute_result",
     "data": {
      "text/plain": [
       "<tensorflow.python.keras.callbacks.History at 0x12c83a87880>"
      ]
     },
     "metadata": {},
     "execution_count": 30
    }
   ],
   "metadata": {}
  },
  {
   "cell_type": "markdown",
   "source": [
    "## Model Evaluation & Inference\r\n",
    "---"
   ],
   "metadata": {}
  },
  {
   "cell_type": "code",
   "execution_count": 31,
   "source": [
    "model.evaluate(X_test, y_test)"
   ],
   "outputs": [
    {
     "output_type": "stream",
     "name": "stdout",
     "text": [
      "45/45 [==============================] - 0s 3ms/step - loss: 0.5006 - accuracy: 0.7715\n"
     ]
    },
    {
     "output_type": "execute_result",
     "data": {
      "text/plain": [
       "[0.5006373524665833, 0.7714691162109375]"
      ]
     },
     "metadata": {},
     "execution_count": 31
    }
   ],
   "metadata": {}
  },
  {
   "cell_type": "code",
   "execution_count": 32,
   "source": [
    "predictions = model.predict(X_test)\r\n",
    "predictions[:5]"
   ],
   "outputs": [
    {
     "output_type": "execute_result",
     "data": {
      "text/plain": [
       "array([[7.3219162e-01],\n",
       "       [1.4386751e-02],\n",
       "       [2.4492643e-03],\n",
       "       [6.5909433e-01],\n",
       "       [3.5612597e-04]], dtype=float32)"
      ]
     },
     "metadata": {},
     "execution_count": 32
    }
   ],
   "metadata": {}
  },
  {
   "cell_type": "code",
   "execution_count": 33,
   "source": [
    "y_pred = []\r\n",
    "\r\n",
    "for val in predictions:\r\n",
    "    if val > 0.5:\r\n",
    "        y_pred.append(1)\r\n",
    "    else:\r\n",
    "        y_pred.append(0)\r\n",
    "            \r\n",
    "y_pred[:10]"
   ],
   "outputs": [
    {
     "output_type": "execute_result",
     "data": {
      "text/plain": [
       "[1, 0, 0, 1, 0, 0, 0, 0, 0, 0]"
      ]
     },
     "metadata": {},
     "execution_count": 33
    }
   ],
   "metadata": {}
  },
  {
   "cell_type": "code",
   "execution_count": 34,
   "source": [
    "df_true_pred = pd.DataFrame({'y_test':y_test, 'y_pred':y_pred}) \r\n",
    "df_true_pred[:10]"
   ],
   "outputs": [
    {
     "output_type": "execute_result",
     "data": {
      "text/html": [
       "<div>\n",
       "<style scoped>\n",
       "    .dataframe tbody tr th:only-of-type {\n",
       "        vertical-align: middle;\n",
       "    }\n",
       "\n",
       "    .dataframe tbody tr th {\n",
       "        vertical-align: top;\n",
       "    }\n",
       "\n",
       "    .dataframe thead th {\n",
       "        text-align: right;\n",
       "    }\n",
       "</style>\n",
       "<table border=\"1\" class=\"dataframe\">\n",
       "  <thead>\n",
       "    <tr style=\"text-align: right;\">\n",
       "      <th></th>\n",
       "      <th>y_test</th>\n",
       "      <th>y_pred</th>\n",
       "    </tr>\n",
       "  </thead>\n",
       "  <tbody>\n",
       "    <tr>\n",
       "      <th>185</th>\n",
       "      <td>1</td>\n",
       "      <td>1</td>\n",
       "    </tr>\n",
       "    <tr>\n",
       "      <th>2715</th>\n",
       "      <td>0</td>\n",
       "      <td>0</td>\n",
       "    </tr>\n",
       "    <tr>\n",
       "      <th>3825</th>\n",
       "      <td>0</td>\n",
       "      <td>0</td>\n",
       "    </tr>\n",
       "    <tr>\n",
       "      <th>1807</th>\n",
       "      <td>1</td>\n",
       "      <td>1</td>\n",
       "    </tr>\n",
       "    <tr>\n",
       "      <th>132</th>\n",
       "      <td>0</td>\n",
       "      <td>0</td>\n",
       "    </tr>\n",
       "    <tr>\n",
       "      <th>1263</th>\n",
       "      <td>1</td>\n",
       "      <td>0</td>\n",
       "    </tr>\n",
       "    <tr>\n",
       "      <th>3732</th>\n",
       "      <td>0</td>\n",
       "      <td>0</td>\n",
       "    </tr>\n",
       "    <tr>\n",
       "      <th>1672</th>\n",
       "      <td>0</td>\n",
       "      <td>0</td>\n",
       "    </tr>\n",
       "    <tr>\n",
       "      <th>811</th>\n",
       "      <td>1</td>\n",
       "      <td>0</td>\n",
       "    </tr>\n",
       "    <tr>\n",
       "      <th>2526</th>\n",
       "      <td>1</td>\n",
       "      <td>0</td>\n",
       "    </tr>\n",
       "  </tbody>\n",
       "</table>\n",
       "</div>"
      ],
      "text/plain": [
       "      y_test  y_pred\n",
       "185        1       1\n",
       "2715       0       0\n",
       "3825       0       0\n",
       "1807       1       1\n",
       "132        0       0\n",
       "1263       1       0\n",
       "3732       0       0\n",
       "1672       0       0\n",
       "811        1       0\n",
       "2526       1       0"
      ]
     },
     "metadata": {},
     "execution_count": 34
    }
   ],
   "metadata": {}
  },
  {
   "cell_type": "code",
   "execution_count": 35,
   "source": [
    "print(classification_report(y_test,y_pred))"
   ],
   "outputs": [
    {
     "output_type": "stream",
     "name": "stdout",
     "text": [
      "              precision    recall  f1-score   support\n",
      "\n",
      "           0       0.83      0.86      0.85      1036\n",
      "           1       0.58      0.51      0.54       373\n",
      "\n",
      "    accuracy                           0.77      1409\n",
      "   macro avg       0.70      0.69      0.70      1409\n",
      "weighted avg       0.76      0.77      0.77      1409\n",
      "\n"
     ]
    }
   ],
   "metadata": {}
  },
  {
   "cell_type": "markdown",
   "source": [
    "From the report we can see that\r\n",
    "\r\n",
    "1. Precision, Recall, and F1 score for 'class 0' is more than 80% and around 50% for 'class 1'\r\n",
    "2. The accuracy of the model was about 79% which is better than the 73.46% customer from given data do not churn."
   ],
   "metadata": {}
  },
  {
   "cell_type": "code",
   "execution_count": 36,
   "source": [
    "cm = tf.math. confusion_matrix(labels= y_test, predictions= y_pred)\r\n",
    "plt.figure(figsize = (10, 7))\r\n",
    "sns.heatmap(cm, annot= True, fmt= 'd')\r\n",
    "plt.xlabel('Predicted')\r\n",
    "plt.ylabel('Truth')"
   ],
   "outputs": [
    {
     "output_type": "execute_result",
     "data": {
      "text/plain": [
       "Text(69.0, 0.5, 'Truth')"
      ]
     },
     "metadata": {},
     "execution_count": 36
    },
    {
     "output_type": "display_data",
     "data": {
      "image/png": "[encoded data removed]",
      "text/plain": [
       "<Figure size 720x504 with 2 Axes>"
      ]
     },
     "metadata": {
      "needs_background": "light"
     }
    }
   ],
   "metadata": {}
  },
  {
   "cell_type": "markdown",
   "source": [
    "## Conclusion\r\n",
    "---"
   ],
   "metadata": {}
  },
  {
   "cell_type": "markdown",
   "source": [
    "### EDA Analysis"
   ],
   "metadata": {}
  },
  {
   "cell_type": "markdown",
   "source": [
    "1. Most of the data contains class label 'No' means customer will remain with the company. If out of all the available data 73.46% customers are going to stay with the company, then for any given input we can say with 73% accuracy that the customer will stay with the company.\r\n",
    "\r\n",
    "\r\n",
    "2. Customer gender doesn't seem to affecting churn count.\r\n",
    "\r\n",
    "\r\n",
    "3. Senior citizens though being few in number have higher customer churn percentage.\r\n",
    "\r\n",
    "\r\n",
    "4. Customers who are using DSL internet service tends to be more loyal as compare to fiber optic using customers. My suggestion to the company is to find the shortcoming in the DSL service and keep doing what they're doing with fiber optic service. Also note that if customers are not using nay internet service then churn count reduces even further. So over all the company should have a look at the internet service offerings and try to fix bring down the shortcomings.\r\n",
    "\r\n",
    "\r\n",
    "5. Customers tend to stay with the company after the first 10 months of service. So the company can concentrate more on the new customer and their initial experience with the service to increase the customer retention.\r\n",
    "\r\n",
    "\r\n",
    "6. Lowest monthly rates between 20 and 40, highest is the customer retention. But customer attrition increases for monthly charges between 70 and 100. So the company can reduce the monthly charges or add more value to the service for the same price to increase the customer retention."
   ],
   "metadata": {}
  },
  {
   "cell_type": "markdown",
   "source": [
    "### Model Analysis"
   ],
   "metadata": {}
  },
  {
   "cell_type": "markdown",
   "source": [
    "1. Precision, Recall, and F1 score for 'class 0' is more than 80% and around 50% for 'class 1'\r\n",
    "\r\n",
    "\r\n",
    "2. The accuracy of the model was about 79% which is better than the 73.46% that customer from given data do not churn."
   ],
   "metadata": {}
  }
 ],
 "metadata": {
  "orig_nbformat": 4,
  "language_info": {
   "name": "python",
   "version": "3.9.7",
   "mimetype": "text/x-python",
   "codemirror_mode": {
    "name": "ipython",
    "version": 3
   },
   "pygments_lexer": "ipython3",
   "nbconvert_exporter": "python",
   "file_extension": ".py"
  },
  "kernelspec": {
   "name": "python3",
   "display_name": "Python 3.9.7 64-bit ('tf-gpu': conda)"
  },
  "interpreter": {
   "hash": "c7cc8d1eaffdc17a36e291cb7773caf7ac1bcd2eb4babfdbb697902e6c49dafa"
  }
 },
 "nbformat": 4,
 "nbformat_minor": 2
}